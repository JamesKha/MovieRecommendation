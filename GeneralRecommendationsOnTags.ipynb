{
  "nbformat": 4,
  "nbformat_minor": 0,
  "metadata": {
    "colab": {
      "name": "TfIdfVectorizer Checker.ipynb",
      "provenance": [],
      "mount_file_id": "1KBOPYF3mGdzp6x8czV6-FdmvGOJ1EEhK",
      "authorship_tag": "ABX9TyNlldsWY6nyKUL4QFCuN9xP",
      "include_colab_link": true
    },
    "kernelspec": {
      "name": "python3",
      "display_name": "Python 3"
    },
    "language_info": {
      "name": "python"
    }
  },
  "cells": [
    {
      "cell_type": "markdown",
      "metadata": {
        "id": "view-in-github",
        "colab_type": "text"
      },
      "source": [
        "<a href=\"https://colab.research.google.com/github/JamesKha/MovieRecommendation/blob/main/TfIdfVectorizer_Checker.ipynb\" target=\"_parent\"><img src=\"https://colab.research.google.com/assets/colab-badge.svg\" alt=\"Open In Colab\"/></a>"
      ]
    },
    {
      "cell_type": "code",
      "metadata": {
        "id": "q6jGyBdDQz8d"
      },
      "source": [
        "from sklearn.feature_extraction.text import TfidfVectorizer\n",
        "import pandas as pd"
      ],
      "execution_count": 1,
      "outputs": []
    },
    {
      "cell_type": "code",
      "metadata": {
        "id": "Wev5_VSARLqE"
      },
      "source": [
        "tagsDF = pd.read_csv('/content/drive/MyDrive/Miniproject Files/tags.csv')\n",
        "moviesDF = pd.read_csv('/content/drive/MyDrive/Miniproject Files/movies.csv')"
      ],
      "execution_count": 2,
      "outputs": []
    },
    {
      "cell_type": "code",
      "metadata": {
        "colab": {
          "base_uri": "https://localhost:8080/",
          "height": 423
        },
        "id": "BSIKRE9LT_sP",
        "outputId": "cfe89cd6-d2d5-4310-81a2-f82cd00f852b"
      },
      "source": [
        "tagsAndGenresDataFrame = pd.merge(tagsDF, moviesDF, on='movieId')[['movieId','title', 'tag','genres']]\n",
        "titlesAndTags = pd.DataFrame(tagsAndGenresDataFrame.groupby(['title']).tag.unique())\n",
        "titlesAndTags = titlesAndTags.reset_index()\n",
        "titlesAndTags['tag'] = titlesAndTags['tag'].apply(lambda x: ' '.join([str(i) for i in x]))\n",
        "titlesAndTags"
      ],
      "execution_count": 3,
      "outputs": [
        {
          "output_type": "execute_result",
          "data": {
            "text/html": [
              "<div>\n",
              "<style scoped>\n",
              "    .dataframe tbody tr th:only-of-type {\n",
              "        vertical-align: middle;\n",
              "    }\n",
              "\n",
              "    .dataframe tbody tr th {\n",
              "        vertical-align: top;\n",
              "    }\n",
              "\n",
              "    .dataframe thead th {\n",
              "        text-align: right;\n",
              "    }\n",
              "</style>\n",
              "<table border=\"1\" class=\"dataframe\">\n",
              "  <thead>\n",
              "    <tr style=\"text-align: right;\">\n",
              "      <th></th>\n",
              "      <th>title</th>\n",
              "      <th>tag</th>\n",
              "    </tr>\n",
              "  </thead>\n",
              "  <tbody>\n",
              "    <tr>\n",
              "      <th>0</th>\n",
              "      <td>(500) Days of Summer (2009)</td>\n",
              "      <td>artistic Funny humorous inspiring intelligent ...</td>\n",
              "    </tr>\n",
              "    <tr>\n",
              "      <th>1</th>\n",
              "      <td>...And Justice for All (1979)</td>\n",
              "      <td>lawyers</td>\n",
              "    </tr>\n",
              "    <tr>\n",
              "      <th>2</th>\n",
              "      <td>10 Cloverfield Lane (2016)</td>\n",
              "      <td>creepy suspense</td>\n",
              "    </tr>\n",
              "    <tr>\n",
              "      <th>3</th>\n",
              "      <td>10 Things I Hate About You (1999)</td>\n",
              "      <td>Shakespeare sort of</td>\n",
              "    </tr>\n",
              "    <tr>\n",
              "      <th>4</th>\n",
              "      <td>101 Dalmatians (1996)</td>\n",
              "      <td>dogs remake</td>\n",
              "    </tr>\n",
              "    <tr>\n",
              "      <th>...</th>\n",
              "      <td>...</td>\n",
              "      <td>...</td>\n",
              "    </tr>\n",
              "    <tr>\n",
              "      <th>1567</th>\n",
              "      <td>Zero Dark Thirty (2012)</td>\n",
              "      <td>Afghanistan American propaganda assassination ...</td>\n",
              "    </tr>\n",
              "    <tr>\n",
              "      <th>1568</th>\n",
              "      <td>Zombieland (2009)</td>\n",
              "      <td>Bill Murray dark comedy Emma Stone funny Jesse...</td>\n",
              "    </tr>\n",
              "    <tr>\n",
              "      <th>1569</th>\n",
              "      <td>Zoolander (2001)</td>\n",
              "      <td>ben stiller comedy David Bowie goofy mindless ...</td>\n",
              "    </tr>\n",
              "    <tr>\n",
              "      <th>1570</th>\n",
              "      <td>Zulu (1964)</td>\n",
              "      <td>Africa</td>\n",
              "    </tr>\n",
              "    <tr>\n",
              "      <th>1571</th>\n",
              "      <td>eXistenZ (1999)</td>\n",
              "      <td>virtual reality</td>\n",
              "    </tr>\n",
              "  </tbody>\n",
              "</table>\n",
              "<p>1572 rows × 2 columns</p>\n",
              "</div>"
            ],
            "text/plain": [
              "                                  title                                                tag\n",
              "0           (500) Days of Summer (2009)  artistic Funny humorous inspiring intelligent ...\n",
              "1         ...And Justice for All (1979)                                            lawyers\n",
              "2            10 Cloverfield Lane (2016)                                    creepy suspense\n",
              "3     10 Things I Hate About You (1999)                                Shakespeare sort of\n",
              "4                 101 Dalmatians (1996)                                        dogs remake\n",
              "...                                 ...                                                ...\n",
              "1567            Zero Dark Thirty (2012)  Afghanistan American propaganda assassination ...\n",
              "1568                  Zombieland (2009)  Bill Murray dark comedy Emma Stone funny Jesse...\n",
              "1569                   Zoolander (2001)  ben stiller comedy David Bowie goofy mindless ...\n",
              "1570                        Zulu (1964)                                             Africa\n",
              "1571                    eXistenZ (1999)                                    virtual reality\n",
              "\n",
              "[1572 rows x 2 columns]"
            ]
          },
          "metadata": {},
          "execution_count": 3
        }
      ]
    },
    {
      "cell_type": "code",
      "metadata": {
        "colab": {
          "base_uri": "https://localhost:8080/",
          "height": 206
        },
        "id": "MELeZ441RTZR",
        "outputId": "220ad619-23f3-420c-d77c-10def05d388c"
      },
      "source": [
        "titlesAndTags.head()"
      ],
      "execution_count": 4,
      "outputs": [
        {
          "output_type": "execute_result",
          "data": {
            "text/html": [
              "<div>\n",
              "<style scoped>\n",
              "    .dataframe tbody tr th:only-of-type {\n",
              "        vertical-align: middle;\n",
              "    }\n",
              "\n",
              "    .dataframe tbody tr th {\n",
              "        vertical-align: top;\n",
              "    }\n",
              "\n",
              "    .dataframe thead th {\n",
              "        text-align: right;\n",
              "    }\n",
              "</style>\n",
              "<table border=\"1\" class=\"dataframe\">\n",
              "  <thead>\n",
              "    <tr style=\"text-align: right;\">\n",
              "      <th></th>\n",
              "      <th>title</th>\n",
              "      <th>tag</th>\n",
              "    </tr>\n",
              "  </thead>\n",
              "  <tbody>\n",
              "    <tr>\n",
              "      <th>0</th>\n",
              "      <td>(500) Days of Summer (2009)</td>\n",
              "      <td>artistic Funny humorous inspiring intelligent ...</td>\n",
              "    </tr>\n",
              "    <tr>\n",
              "      <th>1</th>\n",
              "      <td>...And Justice for All (1979)</td>\n",
              "      <td>lawyers</td>\n",
              "    </tr>\n",
              "    <tr>\n",
              "      <th>2</th>\n",
              "      <td>10 Cloverfield Lane (2016)</td>\n",
              "      <td>creepy suspense</td>\n",
              "    </tr>\n",
              "    <tr>\n",
              "      <th>3</th>\n",
              "      <td>10 Things I Hate About You (1999)</td>\n",
              "      <td>Shakespeare sort of</td>\n",
              "    </tr>\n",
              "    <tr>\n",
              "      <th>4</th>\n",
              "      <td>101 Dalmatians (1996)</td>\n",
              "      <td>dogs remake</td>\n",
              "    </tr>\n",
              "  </tbody>\n",
              "</table>\n",
              "</div>"
            ],
            "text/plain": [
              "                               title                                                tag\n",
              "0        (500) Days of Summer (2009)  artistic Funny humorous inspiring intelligent ...\n",
              "1      ...And Justice for All (1979)                                            lawyers\n",
              "2         10 Cloverfield Lane (2016)                                    creepy suspense\n",
              "3  10 Things I Hate About You (1999)                                Shakespeare sort of\n",
              "4              101 Dalmatians (1996)                                        dogs remake"
            ]
          },
          "metadata": {},
          "execution_count": 4
        }
      ]
    },
    {
      "cell_type": "code",
      "metadata": {
        "id": "G0IMWhfxRWBp"
      },
      "source": [
        "tfidf = TfidfVectorizer(stop_words='english')\n",
        "titlesAndTags['tag'] = titlesAndTags['tag'].fillna('')\n",
        "tfidf_matrix = tfidf.fit_transform(titlesAndTags['tag'])"
      ],
      "execution_count": 5,
      "outputs": []
    },
    {
      "cell_type": "code",
      "metadata": {
        "id": "wrd7ooc4RaE0"
      },
      "source": [
        "from sklearn.metrics.pairwise import linear_kernel\n",
        "cosine_sim = linear_kernel(tfidf_matrix, tfidf_matrix)"
      ],
      "execution_count": 6,
      "outputs": []
    },
    {
      "cell_type": "code",
      "metadata": {
        "id": "ihhaGMcFR5Mr"
      },
      "source": [
        "indices = pd.Series(titlesAndTags.index, index=titlesAndTags['title']).drop_duplicates()"
      ],
      "execution_count": 7,
      "outputs": []
    },
    {
      "cell_type": "code",
      "metadata": {
        "colab": {
          "base_uri": "https://localhost:8080/"
        },
        "id": "v17sHpyNSCGd",
        "outputId": "e7b04433-57a2-46e2-8702-9977385ba807"
      },
      "source": [
        "indices"
      ],
      "execution_count": 8,
      "outputs": [
        {
          "output_type": "execute_result",
          "data": {
            "text/plain": [
              "title\n",
              "(500) Days of Summer (2009)             0\n",
              "...And Justice for All (1979)           1\n",
              "10 Cloverfield Lane (2016)              2\n",
              "10 Things I Hate About You (1999)       3\n",
              "101 Dalmatians (1996)                   4\n",
              "                                     ... \n",
              "Zero Dark Thirty (2012)              1567\n",
              "Zombieland (2009)                    1568\n",
              "Zoolander (2001)                     1569\n",
              "Zulu (1964)                          1570\n",
              "eXistenZ (1999)                      1571\n",
              "Length: 1572, dtype: int64"
            ]
          },
          "metadata": {},
          "execution_count": 8
        }
      ]
    },
    {
      "cell_type": "code",
      "metadata": {
        "colab": {
          "base_uri": "https://localhost:8080/"
        },
        "id": "zuGwVhBlTeof",
        "outputId": "ef2882f7-5dc9-4cb6-9734-359aea64d6a1"
      },
      "source": [
        "cosine_sim"
      ],
      "execution_count": 9,
      "outputs": [
        {
          "output_type": "execute_result",
          "data": {
            "text/plain": [
              "array([[1., 0., 0., ..., 0., 0., 0.],\n",
              "       [0., 1., 0., ..., 0., 0., 0.],\n",
              "       [0., 0., 1., ..., 0., 0., 0.],\n",
              "       ...,\n",
              "       [0., 0., 0., ..., 1., 0., 0.],\n",
              "       [0., 0., 0., ..., 0., 1., 0.],\n",
              "       [0., 0., 0., ..., 0., 0., 1.]])"
            ]
          },
          "metadata": {},
          "execution_count": 9
        }
      ]
    },
    {
      "cell_type": "code",
      "metadata": {
        "id": "PDAWnhSDSHyJ"
      },
      "source": [
        "def get_recommendations(title, cosine_sim=cosine_sim):\n",
        "\n",
        "    idx = indices[title]\n",
        "\n",
        "    sim_scores = list(enumerate(cosine_sim[idx]))\n",
        "\n",
        "\n",
        "    sim_scores = sorted(sim_scores, key=lambda x: x[1], reverse=True)\n",
        "\n",
        "\n",
        "    sim_scores = sim_scores[1:11]\n",
        "\n",
        "\n",
        "    movie_indices = [i[0] for i in sim_scores]\n",
        "\n",
        "\n",
        "    return titlesAndTags[['title','tag']].iloc[movie_indices]"
      ],
      "execution_count": 17,
      "outputs": []
    },
    {
      "cell_type": "code",
      "metadata": {
        "colab": {
          "base_uri": "https://localhost:8080/",
          "height": 423
        },
        "id": "EuHjZFrIVy89",
        "outputId": "d0c9ddce-9d93-4cde-b19e-2dcb48c1fb20"
      },
      "source": [
        "titlesAndTags"
      ],
      "execution_count": 18,
      "outputs": [
        {
          "output_type": "execute_result",
          "data": {
            "text/html": [
              "<div>\n",
              "<style scoped>\n",
              "    .dataframe tbody tr th:only-of-type {\n",
              "        vertical-align: middle;\n",
              "    }\n",
              "\n",
              "    .dataframe tbody tr th {\n",
              "        vertical-align: top;\n",
              "    }\n",
              "\n",
              "    .dataframe thead th {\n",
              "        text-align: right;\n",
              "    }\n",
              "</style>\n",
              "<table border=\"1\" class=\"dataframe\">\n",
              "  <thead>\n",
              "    <tr style=\"text-align: right;\">\n",
              "      <th></th>\n",
              "      <th>title</th>\n",
              "      <th>tag</th>\n",
              "    </tr>\n",
              "  </thead>\n",
              "  <tbody>\n",
              "    <tr>\n",
              "      <th>0</th>\n",
              "      <td>(500) Days of Summer (2009)</td>\n",
              "      <td>artistic Funny humorous inspiring intelligent ...</td>\n",
              "    </tr>\n",
              "    <tr>\n",
              "      <th>1</th>\n",
              "      <td>...And Justice for All (1979)</td>\n",
              "      <td>lawyers</td>\n",
              "    </tr>\n",
              "    <tr>\n",
              "      <th>2</th>\n",
              "      <td>10 Cloverfield Lane (2016)</td>\n",
              "      <td>creepy suspense</td>\n",
              "    </tr>\n",
              "    <tr>\n",
              "      <th>3</th>\n",
              "      <td>10 Things I Hate About You (1999)</td>\n",
              "      <td>Shakespeare sort of</td>\n",
              "    </tr>\n",
              "    <tr>\n",
              "      <th>4</th>\n",
              "      <td>101 Dalmatians (1996)</td>\n",
              "      <td>dogs remake</td>\n",
              "    </tr>\n",
              "    <tr>\n",
              "      <th>...</th>\n",
              "      <td>...</td>\n",
              "      <td>...</td>\n",
              "    </tr>\n",
              "    <tr>\n",
              "      <th>1567</th>\n",
              "      <td>Zero Dark Thirty (2012)</td>\n",
              "      <td>Afghanistan American propaganda assassination ...</td>\n",
              "    </tr>\n",
              "    <tr>\n",
              "      <th>1568</th>\n",
              "      <td>Zombieland (2009)</td>\n",
              "      <td>Bill Murray dark comedy Emma Stone funny Jesse...</td>\n",
              "    </tr>\n",
              "    <tr>\n",
              "      <th>1569</th>\n",
              "      <td>Zoolander (2001)</td>\n",
              "      <td>ben stiller comedy David Bowie goofy mindless ...</td>\n",
              "    </tr>\n",
              "    <tr>\n",
              "      <th>1570</th>\n",
              "      <td>Zulu (1964)</td>\n",
              "      <td>Africa</td>\n",
              "    </tr>\n",
              "    <tr>\n",
              "      <th>1571</th>\n",
              "      <td>eXistenZ (1999)</td>\n",
              "      <td>virtual reality</td>\n",
              "    </tr>\n",
              "  </tbody>\n",
              "</table>\n",
              "<p>1572 rows × 2 columns</p>\n",
              "</div>"
            ],
            "text/plain": [
              "                                  title                                                tag\n",
              "0           (500) Days of Summer (2009)  artistic Funny humorous inspiring intelligent ...\n",
              "1         ...And Justice for All (1979)                                            lawyers\n",
              "2            10 Cloverfield Lane (2016)                                    creepy suspense\n",
              "3     10 Things I Hate About You (1999)                                Shakespeare sort of\n",
              "4                 101 Dalmatians (1996)                                        dogs remake\n",
              "...                                 ...                                                ...\n",
              "1567            Zero Dark Thirty (2012)  Afghanistan American propaganda assassination ...\n",
              "1568                  Zombieland (2009)  Bill Murray dark comedy Emma Stone funny Jesse...\n",
              "1569                   Zoolander (2001)  ben stiller comedy David Bowie goofy mindless ...\n",
              "1570                        Zulu (1964)                                             Africa\n",
              "1571                    eXistenZ (1999)                                    virtual reality\n",
              "\n",
              "[1572 rows x 2 columns]"
            ]
          },
          "metadata": {},
          "execution_count": 18
        }
      ]
    },
    {
      "cell_type": "code",
      "metadata": {
        "colab": {
          "base_uri": "https://localhost:8080/",
          "height": 363
        },
        "id": "vcFBFUasSRdo",
        "outputId": "9f7e19b1-66b8-42df-a552-a7566685dba0"
      },
      "source": [
        "get_recommendations('Step Brothers (2008)')"
      ],
      "execution_count": 19,
      "outputs": [
        {
          "output_type": "execute_result",
          "data": {
            "text/html": [
              "<div>\n",
              "<style scoped>\n",
              "    .dataframe tbody tr th:only-of-type {\n",
              "        vertical-align: middle;\n",
              "    }\n",
              "\n",
              "    .dataframe tbody tr th {\n",
              "        vertical-align: top;\n",
              "    }\n",
              "\n",
              "    .dataframe thead th {\n",
              "        text-align: right;\n",
              "    }\n",
              "</style>\n",
              "<table border=\"1\" class=\"dataframe\">\n",
              "  <thead>\n",
              "    <tr style=\"text-align: right;\">\n",
              "      <th></th>\n",
              "      <th>title</th>\n",
              "      <th>tag</th>\n",
              "    </tr>\n",
              "  </thead>\n",
              "  <tbody>\n",
              "    <tr>\n",
              "      <th>986</th>\n",
              "      <td>Old School (2003)</td>\n",
              "      <td>comedy Will Ferrell</td>\n",
              "    </tr>\n",
              "    <tr>\n",
              "      <th>66</th>\n",
              "      <td>Anchorman 2: The Legend Continues (2013)</td>\n",
              "      <td>comedy Steve Carell stupid but funny will ferrell</td>\n",
              "    </tr>\n",
              "    <tr>\n",
              "      <th>36</th>\n",
              "      <td>Airheads (1994)</td>\n",
              "      <td>Comedy</td>\n",
              "    </tr>\n",
              "    <tr>\n",
              "      <th>242</th>\n",
              "      <td>Chalet Girl (2011)</td>\n",
              "      <td>Comedy</td>\n",
              "    </tr>\n",
              "    <tr>\n",
              "      <th>146</th>\n",
              "      <td>Big Lebowski, The (1998)</td>\n",
              "      <td>Coen Brothers black comedy bowling classic coe...</td>\n",
              "    </tr>\n",
              "    <tr>\n",
              "      <th>491</th>\n",
              "      <td>Game Night (2018)</td>\n",
              "      <td>Comedy funny Rachel McAdams</td>\n",
              "    </tr>\n",
              "    <tr>\n",
              "      <th>67</th>\n",
              "      <td>Anchorman: The Legend of Ron Burgundy (2004)</td>\n",
              "      <td>hilarious Steve Carell Will Ferrell stupid awe...</td>\n",
              "    </tr>\n",
              "    <tr>\n",
              "      <th>274</th>\n",
              "      <td>Clueless (1995)</td>\n",
              "      <td>chick flick funny Paul Rudd quotable seen more...</td>\n",
              "    </tr>\n",
              "    <tr>\n",
              "      <th>713</th>\n",
              "      <td>Jumanji: Welcome to the Jungle (2017)</td>\n",
              "      <td>Action Comedy Dwayne Johnson funny</td>\n",
              "    </tr>\n",
              "    <tr>\n",
              "      <th>1385</th>\n",
              "      <td>The Lego Batman Movie (2017)</td>\n",
              "      <td>funny heartwarming</td>\n",
              "    </tr>\n",
              "  </tbody>\n",
              "</table>\n",
              "</div>"
            ],
            "text/plain": [
              "                                             title                                                tag\n",
              "986                              Old School (2003)                                comedy Will Ferrell\n",
              "66        Anchorman 2: The Legend Continues (2013)  comedy Steve Carell stupid but funny will ferrell\n",
              "36                                 Airheads (1994)                                             Comedy\n",
              "242                             Chalet Girl (2011)                                             Comedy\n",
              "146                       Big Lebowski, The (1998)  Coen Brothers black comedy bowling classic coe...\n",
              "491                              Game Night (2018)                        Comedy funny Rachel McAdams\n",
              "67    Anchorman: The Legend of Ron Burgundy (2004)  hilarious Steve Carell Will Ferrell stupid awe...\n",
              "274                                Clueless (1995)  chick flick funny Paul Rudd quotable seen more...\n",
              "713          Jumanji: Welcome to the Jungle (2017)                 Action Comedy Dwayne Johnson funny\n",
              "1385                  The Lego Batman Movie (2017)                                 funny heartwarming"
            ]
          },
          "metadata": {},
          "execution_count": 19
        }
      ]
    },
    {
      "cell_type": "code",
      "metadata": {
        "id": "zHQvEUbhV7_m"
      },
      "source": [
        ""
      ],
      "execution_count": null,
      "outputs": []
    }
  ]
}
