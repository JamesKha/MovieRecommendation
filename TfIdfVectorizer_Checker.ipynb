{
  "nbformat": 4,
  "nbformat_minor": 0,
  "metadata": {
    "colab": {
      "name": "TfIdfVectorizer Checker.ipynb",
      "provenance": [],
      "collapsed_sections": [],
      "mount_file_id": "1aDtRdFlLp4nygghFeawTn7cRDPkqiJfk",
      "authorship_tag": "ABX9TyMWdwjpRNMnDhsgciUyDKi2",
      "include_colab_link": true
    },
    "kernelspec": {
      "name": "python3",
      "display_name": "Python 3"
    },
    "language_info": {
      "name": "python"
    }
  },
  "cells": [
    {
      "cell_type": "markdown",
      "metadata": {
        "id": "view-in-github",
        "colab_type": "text"
      },
      "source": [
        "<a href=\"https://colab.research.google.com/github/JamesKha/MovieRecommendation/blob/main/TfIdfVectorizer_Checker.ipynb\" target=\"_parent\"><img src=\"https://colab.research.google.com/assets/colab-badge.svg\" alt=\"Open In Colab\"/></a>"
      ]
    },
    {
      "cell_type": "code",
      "metadata": {
        "id": "q6jGyBdDQz8d"
      },
      "source": [
        "from sklearn.feature_extraction.text import TfidfVectorizer\n",
        "import pandas as pd"
      ],
      "execution_count": 2,
      "outputs": []
    },
    {
      "cell_type": "code",
      "metadata": {
        "id": "Wev5_VSARLqE"
      },
      "source": [
        "tagsDF = pd.read_csv('/content/drive/MyDrive/Miniproject Files/tags.csv')\n",
        "moviesDF = pd.read_csv('/content/drive/MyDrive/Miniproject Files/movies.csv')"
      ],
      "execution_count": 3,
      "outputs": []
    },
    {
      "cell_type": "markdown",
      "metadata": {
        "id": "P34bMvhgk8Vg"
      },
      "source": [
        "#Recommending with tags"
      ]
    },
    {
      "cell_type": "code",
      "metadata": {
        "id": "BSIKRE9LT_sP"
      },
      "source": [
        "tagsAndGenresDataFrame = pd.merge(tagsDF, moviesDF, on='movieId')[['movieId','title', 'tag','genres']]\n",
        "titlesAndTags = pd.DataFrame(tagsAndGenresDataFrame.groupby(['title']).tag.unique())\n",
        "titlesAndTags = titlesAndTags.reset_index()\n",
        "titlesAndTags['tag'] = titlesAndTags['tag'].apply(lambda x: ' '.join([str(i) for i in x]))\n",
        "titlesAndTags['tag'] = titlesAndTags['tag'].str.lower()"
      ],
      "execution_count": 4,
      "outputs": []
    },
    {
      "cell_type": "code",
      "metadata": {
        "colab": {
          "base_uri": "https://localhost:8080/",
          "height": 206
        },
        "id": "MELeZ441RTZR",
        "outputId": "916833ae-e5a2-483b-a015-2ebfb11eaac9"
      },
      "source": [
        "titlesAndTags.head()"
      ],
      "execution_count": 5,
      "outputs": [
        {
          "output_type": "execute_result",
          "data": {
            "text/html": [
              "<div>\n",
              "<style scoped>\n",
              "    .dataframe tbody tr th:only-of-type {\n",
              "        vertical-align: middle;\n",
              "    }\n",
              "\n",
              "    .dataframe tbody tr th {\n",
              "        vertical-align: top;\n",
              "    }\n",
              "\n",
              "    .dataframe thead th {\n",
              "        text-align: right;\n",
              "    }\n",
              "</style>\n",
              "<table border=\"1\" class=\"dataframe\">\n",
              "  <thead>\n",
              "    <tr style=\"text-align: right;\">\n",
              "      <th></th>\n",
              "      <th>title</th>\n",
              "      <th>tag</th>\n",
              "    </tr>\n",
              "  </thead>\n",
              "  <tbody>\n",
              "    <tr>\n",
              "      <th>0</th>\n",
              "      <td>(500) Days of Summer (2009)</td>\n",
              "      <td>artistic funny humorous inspiring intelligent ...</td>\n",
              "    </tr>\n",
              "    <tr>\n",
              "      <th>1</th>\n",
              "      <td>...And Justice for All (1979)</td>\n",
              "      <td>lawyers</td>\n",
              "    </tr>\n",
              "    <tr>\n",
              "      <th>2</th>\n",
              "      <td>10 Cloverfield Lane (2016)</td>\n",
              "      <td>creepy suspense</td>\n",
              "    </tr>\n",
              "    <tr>\n",
              "      <th>3</th>\n",
              "      <td>10 Things I Hate About You (1999)</td>\n",
              "      <td>shakespeare sort of</td>\n",
              "    </tr>\n",
              "    <tr>\n",
              "      <th>4</th>\n",
              "      <td>101 Dalmatians (1996)</td>\n",
              "      <td>dogs remake</td>\n",
              "    </tr>\n",
              "  </tbody>\n",
              "</table>\n",
              "</div>"
            ],
            "text/plain": [
              "                               title                                                tag\n",
              "0        (500) Days of Summer (2009)  artistic funny humorous inspiring intelligent ...\n",
              "1      ...And Justice for All (1979)                                            lawyers\n",
              "2         10 Cloverfield Lane (2016)                                    creepy suspense\n",
              "3  10 Things I Hate About You (1999)                                shakespeare sort of\n",
              "4              101 Dalmatians (1996)                                        dogs remake"
            ]
          },
          "metadata": {},
          "execution_count": 5
        }
      ]
    },
    {
      "cell_type": "code",
      "metadata": {
        "id": "G0IMWhfxRWBp"
      },
      "source": [
        "tfidf = TfidfVectorizer(stop_words='english')\n",
        "titlesAndTags['tag'] = titlesAndTags['tag'].fillna('')\n",
        "tfidf_matrix = tfidf.fit_transform(titlesAndTags['tag'])"
      ],
      "execution_count": 6,
      "outputs": []
    },
    {
      "cell_type": "code",
      "metadata": {
        "id": "wrd7ooc4RaE0"
      },
      "source": [
        "from sklearn.metrics.pairwise import linear_kernel\n",
        "cosine_sim = linear_kernel(tfidf_matrix, tfidf_matrix)"
      ],
      "execution_count": 7,
      "outputs": []
    },
    {
      "cell_type": "code",
      "metadata": {
        "id": "ihhaGMcFR5Mr"
      },
      "source": [
        "indices = pd.Series(titlesAndTags.index, index=titlesAndTags['title']).drop_duplicates()"
      ],
      "execution_count": 8,
      "outputs": []
    },
    {
      "cell_type": "code",
      "metadata": {
        "colab": {
          "base_uri": "https://localhost:8080/"
        },
        "id": "v17sHpyNSCGd",
        "outputId": "fddcbe3e-8e91-4dcc-977d-4a1be0edff28"
      },
      "source": [
        "indices"
      ],
      "execution_count": 9,
      "outputs": [
        {
          "output_type": "execute_result",
          "data": {
            "text/plain": [
              "title\n",
              "(500) Days of Summer (2009)             0\n",
              "...And Justice for All (1979)           1\n",
              "10 Cloverfield Lane (2016)              2\n",
              "10 Things I Hate About You (1999)       3\n",
              "101 Dalmatians (1996)                   4\n",
              "                                     ... \n",
              "Zero Dark Thirty (2012)              1567\n",
              "Zombieland (2009)                    1568\n",
              "Zoolander (2001)                     1569\n",
              "Zulu (1964)                          1570\n",
              "eXistenZ (1999)                      1571\n",
              "Length: 1572, dtype: int64"
            ]
          },
          "metadata": {},
          "execution_count": 9
        }
      ]
    },
    {
      "cell_type": "code",
      "metadata": {
        "colab": {
          "base_uri": "https://localhost:8080/"
        },
        "id": "zuGwVhBlTeof",
        "outputId": "cd19a85b-3412-4fee-8f37-bf52ee18bedb"
      },
      "source": [
        "cosine_sim"
      ],
      "execution_count": 10,
      "outputs": [
        {
          "output_type": "execute_result",
          "data": {
            "text/plain": [
              "array([[1., 0., 0., ..., 0., 0., 0.],\n",
              "       [0., 1., 0., ..., 0., 0., 0.],\n",
              "       [0., 0., 1., ..., 0., 0., 0.],\n",
              "       ...,\n",
              "       [0., 0., 0., ..., 1., 0., 0.],\n",
              "       [0., 0., 0., ..., 0., 1., 0.],\n",
              "       [0., 0., 0., ..., 0., 0., 1.]])"
            ]
          },
          "metadata": {},
          "execution_count": 10
        }
      ]
    },
    {
      "cell_type": "code",
      "metadata": {
        "id": "PDAWnhSDSHyJ"
      },
      "source": [
        "def get_recommendations(title, cosine_sim=cosine_sim):\n",
        "\n",
        "    idx = indices[title]\n",
        "\n",
        "    sim_scores = list(enumerate(cosine_sim[idx]))\n",
        "\n",
        "\n",
        "    sim_scores = sorted(sim_scores, key=lambda x: x[1], reverse=True)\n",
        "\n",
        "\n",
        "    sim_scores = sim_scores[1:11]\n",
        "\n",
        "\n",
        "    movie_indices = [i[0] for i in sim_scores]\n",
        "\n",
        "\n",
        "    return titlesAndTags[['title','tag']].iloc[movie_indices]"
      ],
      "execution_count": 11,
      "outputs": []
    },
    {
      "cell_type": "code",
      "metadata": {
        "colab": {
          "base_uri": "https://localhost:8080/",
          "height": 423
        },
        "id": "EuHjZFrIVy89",
        "outputId": "af27d935-6eb3-4133-e768-e1fe9b05851a"
      },
      "source": [
        "titlesAndTags"
      ],
      "execution_count": 12,
      "outputs": [
        {
          "output_type": "execute_result",
          "data": {
            "text/html": [
              "<div>\n",
              "<style scoped>\n",
              "    .dataframe tbody tr th:only-of-type {\n",
              "        vertical-align: middle;\n",
              "    }\n",
              "\n",
              "    .dataframe tbody tr th {\n",
              "        vertical-align: top;\n",
              "    }\n",
              "\n",
              "    .dataframe thead th {\n",
              "        text-align: right;\n",
              "    }\n",
              "</style>\n",
              "<table border=\"1\" class=\"dataframe\">\n",
              "  <thead>\n",
              "    <tr style=\"text-align: right;\">\n",
              "      <th></th>\n",
              "      <th>title</th>\n",
              "      <th>tag</th>\n",
              "    </tr>\n",
              "  </thead>\n",
              "  <tbody>\n",
              "    <tr>\n",
              "      <th>0</th>\n",
              "      <td>(500) Days of Summer (2009)</td>\n",
              "      <td>artistic funny humorous inspiring intelligent ...</td>\n",
              "    </tr>\n",
              "    <tr>\n",
              "      <th>1</th>\n",
              "      <td>...And Justice for All (1979)</td>\n",
              "      <td>lawyers</td>\n",
              "    </tr>\n",
              "    <tr>\n",
              "      <th>2</th>\n",
              "      <td>10 Cloverfield Lane (2016)</td>\n",
              "      <td>creepy suspense</td>\n",
              "    </tr>\n",
              "    <tr>\n",
              "      <th>3</th>\n",
              "      <td>10 Things I Hate About You (1999)</td>\n",
              "      <td>shakespeare sort of</td>\n",
              "    </tr>\n",
              "    <tr>\n",
              "      <th>4</th>\n",
              "      <td>101 Dalmatians (1996)</td>\n",
              "      <td>dogs remake</td>\n",
              "    </tr>\n",
              "    <tr>\n",
              "      <th>...</th>\n",
              "      <td>...</td>\n",
              "      <td>...</td>\n",
              "    </tr>\n",
              "    <tr>\n",
              "      <th>1567</th>\n",
              "      <td>Zero Dark Thirty (2012)</td>\n",
              "      <td>afghanistan american propaganda assassination ...</td>\n",
              "    </tr>\n",
              "    <tr>\n",
              "      <th>1568</th>\n",
              "      <td>Zombieland (2009)</td>\n",
              "      <td>bill murray dark comedy emma stone funny jesse...</td>\n",
              "    </tr>\n",
              "    <tr>\n",
              "      <th>1569</th>\n",
              "      <td>Zoolander (2001)</td>\n",
              "      <td>ben stiller comedy david bowie goofy mindless ...</td>\n",
              "    </tr>\n",
              "    <tr>\n",
              "      <th>1570</th>\n",
              "      <td>Zulu (1964)</td>\n",
              "      <td>africa</td>\n",
              "    </tr>\n",
              "    <tr>\n",
              "      <th>1571</th>\n",
              "      <td>eXistenZ (1999)</td>\n",
              "      <td>virtual reality</td>\n",
              "    </tr>\n",
              "  </tbody>\n",
              "</table>\n",
              "<p>1572 rows × 2 columns</p>\n",
              "</div>"
            ],
            "text/plain": [
              "                                  title                                                tag\n",
              "0           (500) Days of Summer (2009)  artistic funny humorous inspiring intelligent ...\n",
              "1         ...And Justice for All (1979)                                            lawyers\n",
              "2            10 Cloverfield Lane (2016)                                    creepy suspense\n",
              "3     10 Things I Hate About You (1999)                                shakespeare sort of\n",
              "4                 101 Dalmatians (1996)                                        dogs remake\n",
              "...                                 ...                                                ...\n",
              "1567            Zero Dark Thirty (2012)  afghanistan american propaganda assassination ...\n",
              "1568                  Zombieland (2009)  bill murray dark comedy emma stone funny jesse...\n",
              "1569                   Zoolander (2001)  ben stiller comedy david bowie goofy mindless ...\n",
              "1570                        Zulu (1964)                                             africa\n",
              "1571                    eXistenZ (1999)                                    virtual reality\n",
              "\n",
              "[1572 rows x 2 columns]"
            ]
          },
          "metadata": {},
          "execution_count": 12
        }
      ]
    },
    {
      "cell_type": "code",
      "metadata": {
        "colab": {
          "base_uri": "https://localhost:8080/",
          "height": 363
        },
        "id": "vcFBFUasSRdo",
        "outputId": "791b2d95-7bbe-41cd-979d-5582160207d5"
      },
      "source": [
        "get_recommendations('Step Brothers (2008)')"
      ],
      "execution_count": 13,
      "outputs": [
        {
          "output_type": "execute_result",
          "data": {
            "text/html": [
              "<div>\n",
              "<style scoped>\n",
              "    .dataframe tbody tr th:only-of-type {\n",
              "        vertical-align: middle;\n",
              "    }\n",
              "\n",
              "    .dataframe tbody tr th {\n",
              "        vertical-align: top;\n",
              "    }\n",
              "\n",
              "    .dataframe thead th {\n",
              "        text-align: right;\n",
              "    }\n",
              "</style>\n",
              "<table border=\"1\" class=\"dataframe\">\n",
              "  <thead>\n",
              "    <tr style=\"text-align: right;\">\n",
              "      <th></th>\n",
              "      <th>title</th>\n",
              "      <th>tag</th>\n",
              "    </tr>\n",
              "  </thead>\n",
              "  <tbody>\n",
              "    <tr>\n",
              "      <th>986</th>\n",
              "      <td>Old School (2003)</td>\n",
              "      <td>comedy will ferrell</td>\n",
              "    </tr>\n",
              "    <tr>\n",
              "      <th>66</th>\n",
              "      <td>Anchorman 2: The Legend Continues (2013)</td>\n",
              "      <td>comedy steve carell stupid but funny will ferrell</td>\n",
              "    </tr>\n",
              "    <tr>\n",
              "      <th>36</th>\n",
              "      <td>Airheads (1994)</td>\n",
              "      <td>comedy</td>\n",
              "    </tr>\n",
              "    <tr>\n",
              "      <th>242</th>\n",
              "      <td>Chalet Girl (2011)</td>\n",
              "      <td>comedy</td>\n",
              "    </tr>\n",
              "    <tr>\n",
              "      <th>146</th>\n",
              "      <td>Big Lebowski, The (1998)</td>\n",
              "      <td>coen brothers black comedy bowling classic coe...</td>\n",
              "    </tr>\n",
              "    <tr>\n",
              "      <th>491</th>\n",
              "      <td>Game Night (2018)</td>\n",
              "      <td>comedy funny rachel mcadams</td>\n",
              "    </tr>\n",
              "    <tr>\n",
              "      <th>67</th>\n",
              "      <td>Anchorman: The Legend of Ron Burgundy (2004)</td>\n",
              "      <td>hilarious steve carell will ferrell stupid awe...</td>\n",
              "    </tr>\n",
              "    <tr>\n",
              "      <th>274</th>\n",
              "      <td>Clueless (1995)</td>\n",
              "      <td>chick flick funny paul rudd quotable seen more...</td>\n",
              "    </tr>\n",
              "    <tr>\n",
              "      <th>713</th>\n",
              "      <td>Jumanji: Welcome to the Jungle (2017)</td>\n",
              "      <td>action comedy dwayne johnson funny</td>\n",
              "    </tr>\n",
              "    <tr>\n",
              "      <th>1385</th>\n",
              "      <td>The Lego Batman Movie (2017)</td>\n",
              "      <td>funny heartwarming</td>\n",
              "    </tr>\n",
              "  </tbody>\n",
              "</table>\n",
              "</div>"
            ],
            "text/plain": [
              "                                             title                                                tag\n",
              "986                              Old School (2003)                                comedy will ferrell\n",
              "66        Anchorman 2: The Legend Continues (2013)  comedy steve carell stupid but funny will ferrell\n",
              "36                                 Airheads (1994)                                             comedy\n",
              "242                             Chalet Girl (2011)                                             comedy\n",
              "146                       Big Lebowski, The (1998)  coen brothers black comedy bowling classic coe...\n",
              "491                              Game Night (2018)                        comedy funny rachel mcadams\n",
              "67    Anchorman: The Legend of Ron Burgundy (2004)  hilarious steve carell will ferrell stupid awe...\n",
              "274                                Clueless (1995)  chick flick funny paul rudd quotable seen more...\n",
              "713          Jumanji: Welcome to the Jungle (2017)                 action comedy dwayne johnson funny\n",
              "1385                  The Lego Batman Movie (2017)                                 funny heartwarming"
            ]
          },
          "metadata": {},
          "execution_count": 13
        }
      ]
    },
    {
      "cell_type": "markdown",
      "metadata": {
        "id": "A0IffY6ok3Ol"
      },
      "source": [
        "#Implementation with genres"
      ]
    },
    {
      "cell_type": "code",
      "metadata": {
        "id": "zHQvEUbhV7_m"
      },
      "source": [
        "movieAndGenres = tagsAndGenresDataFrame"
      ],
      "execution_count": 14,
      "outputs": []
    },
    {
      "cell_type": "code",
      "metadata": {
        "id": "E7Nivr2fzdzY"
      },
      "source": [
        "movieAndGenres['tag'] =  movieAndGenres.groupby(['movieId','title'])['tag'].transform(lambda x: ' '.join(x))"
      ],
      "execution_count": 15,
      "outputs": []
    },
    {
      "cell_type": "code",
      "metadata": {
        "id": "T5Bi0JHLl7M9"
      },
      "source": [
        "movieAndGenres = movieAndGenres.drop_duplicates()"
      ],
      "execution_count": 16,
      "outputs": []
    },
    {
      "cell_type": "code",
      "metadata": {
        "colab": {
          "base_uri": "https://localhost:8080/",
          "height": 423
        },
        "id": "4LJA6OLbyqNS",
        "outputId": "ad2fd504-978f-4f4f-dee3-819c9483699d"
      },
      "source": [
        "movieAndGenres"
      ],
      "execution_count": 17,
      "outputs": [
        {
          "output_type": "execute_result",
          "data": {
            "text/html": [
              "<div>\n",
              "<style scoped>\n",
              "    .dataframe tbody tr th:only-of-type {\n",
              "        vertical-align: middle;\n",
              "    }\n",
              "\n",
              "    .dataframe tbody tr th {\n",
              "        vertical-align: top;\n",
              "    }\n",
              "\n",
              "    .dataframe thead th {\n",
              "        text-align: right;\n",
              "    }\n",
              "</style>\n",
              "<table border=\"1\" class=\"dataframe\">\n",
              "  <thead>\n",
              "    <tr style=\"text-align: right;\">\n",
              "      <th></th>\n",
              "      <th>movieId</th>\n",
              "      <th>title</th>\n",
              "      <th>tag</th>\n",
              "      <th>genres</th>\n",
              "    </tr>\n",
              "  </thead>\n",
              "  <tbody>\n",
              "    <tr>\n",
              "      <th>0</th>\n",
              "      <td>60756</td>\n",
              "      <td>Step Brothers (2008)</td>\n",
              "      <td>funny Highly quotable will ferrell comedy funn...</td>\n",
              "      <td>Comedy</td>\n",
              "    </tr>\n",
              "    <tr>\n",
              "      <th>8</th>\n",
              "      <td>89774</td>\n",
              "      <td>Warrior (2011)</td>\n",
              "      <td>Boxing story MMA Tom Hardy</td>\n",
              "      <td>Drama</td>\n",
              "    </tr>\n",
              "    <tr>\n",
              "      <th>11</th>\n",
              "      <td>106782</td>\n",
              "      <td>Wolf of Wall Street, The (2013)</td>\n",
              "      <td>drugs Leonardo DiCaprio Martin Scorsese Stock ...</td>\n",
              "      <td>Comedy|Crime|Drama</td>\n",
              "    </tr>\n",
              "    <tr>\n",
              "      <th>16</th>\n",
              "      <td>48516</td>\n",
              "      <td>Departed, The (2006)</td>\n",
              "      <td>way too long Leonardo DiCaprio suspense twist ...</td>\n",
              "      <td>Crime|Drama|Thriller</td>\n",
              "    </tr>\n",
              "    <tr>\n",
              "      <th>26</th>\n",
              "      <td>431</td>\n",
              "      <td>Carlito's Way (1993)</td>\n",
              "      <td>Al Pacino gangster mafia</td>\n",
              "      <td>Crime|Drama</td>\n",
              "    </tr>\n",
              "    <tr>\n",
              "      <th>...</th>\n",
              "      <td>...</td>\n",
              "      <td>...</td>\n",
              "      <td>...</td>\n",
              "      <td>...</td>\n",
              "    </tr>\n",
              "    <tr>\n",
              "      <th>3677</th>\n",
              "      <td>1948</td>\n",
              "      <td>Tom Jones (1963)</td>\n",
              "      <td>British</td>\n",
              "      <td>Adventure|Comedy|Romance</td>\n",
              "    </tr>\n",
              "    <tr>\n",
              "      <th>3678</th>\n",
              "      <td>5694</td>\n",
              "      <td>Staying Alive (1983)</td>\n",
              "      <td>70mm</td>\n",
              "      <td>Comedy|Drama|Musical</td>\n",
              "    </tr>\n",
              "    <tr>\n",
              "      <th>3679</th>\n",
              "      <td>6107</td>\n",
              "      <td>Night of the Shooting Stars (Notte di San Lore...</td>\n",
              "      <td>World War II</td>\n",
              "      <td>Drama|War</td>\n",
              "    </tr>\n",
              "    <tr>\n",
              "      <th>3680</th>\n",
              "      <td>7936</td>\n",
              "      <td>Shame (Skammen) (1968)</td>\n",
              "      <td>austere</td>\n",
              "      <td>Drama|War</td>\n",
              "    </tr>\n",
              "    <tr>\n",
              "      <th>3681</th>\n",
              "      <td>3265</td>\n",
              "      <td>Hard-Boiled (Lat sau san taam) (1992)</td>\n",
              "      <td>gun fu heroic bloodshed</td>\n",
              "      <td>Action|Crime|Drama|Thriller</td>\n",
              "    </tr>\n",
              "  </tbody>\n",
              "</table>\n",
              "<p>1572 rows × 4 columns</p>\n",
              "</div>"
            ],
            "text/plain": [
              "      movieId  ...                       genres\n",
              "0       60756  ...                       Comedy\n",
              "8       89774  ...                        Drama\n",
              "11     106782  ...           Comedy|Crime|Drama\n",
              "16      48516  ...         Crime|Drama|Thriller\n",
              "26        431  ...                  Crime|Drama\n",
              "...       ...  ...                          ...\n",
              "3677     1948  ...     Adventure|Comedy|Romance\n",
              "3678     5694  ...         Comedy|Drama|Musical\n",
              "3679     6107  ...                    Drama|War\n",
              "3680     7936  ...                    Drama|War\n",
              "3681     3265  ...  Action|Crime|Drama|Thriller\n",
              "\n",
              "[1572 rows x 4 columns]"
            ]
          },
          "metadata": {},
          "execution_count": 17
        }
      ]
    },
    {
      "cell_type": "code",
      "metadata": {
        "id": "spiezbTGj5Ig",
        "colab": {
          "base_uri": "https://localhost:8080/"
        },
        "outputId": "39a325b0-c052-4b61-803e-714fd896d329"
      },
      "source": [
        "movieAndGenres['genresList'] = movieAndGenres['genres'].str.split(\"|\")\n",
        "movieAndGenres.drop('genres',axis=1, inplace=True)"
      ],
      "execution_count": 18,
      "outputs": [
        {
          "output_type": "stream",
          "name": "stderr",
          "text": [
            "/usr/local/lib/python3.7/dist-packages/ipykernel_launcher.py:1: SettingWithCopyWarning: \n",
            "A value is trying to be set on a copy of a slice from a DataFrame.\n",
            "Try using .loc[row_indexer,col_indexer] = value instead\n",
            "\n",
            "See the caveats in the documentation: https://pandas.pydata.org/pandas-docs/stable/user_guide/indexing.html#returning-a-view-versus-a-copy\n",
            "  \"\"\"Entry point for launching an IPython kernel.\n",
            "/usr/local/lib/python3.7/dist-packages/pandas/core/frame.py:4174: SettingWithCopyWarning: \n",
            "A value is trying to be set on a copy of a slice from a DataFrame\n",
            "\n",
            "See the caveats in the documentation: https://pandas.pydata.org/pandas-docs/stable/user_guide/indexing.html#returning-a-view-versus-a-copy\n",
            "  errors=errors,\n"
          ]
        }
      ]
    },
    {
      "cell_type": "code",
      "metadata": {
        "id": "rAMZoexTkUcK",
        "colab": {
          "base_uri": "https://localhost:8080/"
        },
        "outputId": "fdfae5ae-6ff9-45da-e9ff-89309a9636b3"
      },
      "source": [
        "movieAndGenres['genresList'] = movieAndGenres['genresList'].apply(lambda x: ' '.join([str(i) for i in x]))\n",
        "movieAndGenres['genresList'] = movieAndGenres['genresList'].str.lower()"
      ],
      "execution_count": 19,
      "outputs": [
        {
          "output_type": "stream",
          "name": "stderr",
          "text": [
            "/usr/local/lib/python3.7/dist-packages/ipykernel_launcher.py:1: SettingWithCopyWarning: \n",
            "A value is trying to be set on a copy of a slice from a DataFrame.\n",
            "Try using .loc[row_indexer,col_indexer] = value instead\n",
            "\n",
            "See the caveats in the documentation: https://pandas.pydata.org/pandas-docs/stable/user_guide/indexing.html#returning-a-view-versus-a-copy\n",
            "  \"\"\"Entry point for launching an IPython kernel.\n",
            "/usr/local/lib/python3.7/dist-packages/ipykernel_launcher.py:2: SettingWithCopyWarning: \n",
            "A value is trying to be set on a copy of a slice from a DataFrame.\n",
            "Try using .loc[row_indexer,col_indexer] = value instead\n",
            "\n",
            "See the caveats in the documentation: https://pandas.pydata.org/pandas-docs/stable/user_guide/indexing.html#returning-a-view-versus-a-copy\n",
            "  \n"
          ]
        }
      ]
    },
    {
      "cell_type": "code",
      "metadata": {
        "id": "Nva55QSQoita",
        "colab": {
          "base_uri": "https://localhost:8080/"
        },
        "outputId": "9d3254c6-d3a0-4a1d-ca81-14d073e0a366"
      },
      "source": [
        "movieAndGenres['year'] = movieAndGenres['title'].str.extract('.*\\((.*)\\).*')"
      ],
      "execution_count": 20,
      "outputs": [
        {
          "output_type": "stream",
          "name": "stderr",
          "text": [
            "/usr/local/lib/python3.7/dist-packages/ipykernel_launcher.py:1: SettingWithCopyWarning: \n",
            "A value is trying to be set on a copy of a slice from a DataFrame.\n",
            "Try using .loc[row_indexer,col_indexer] = value instead\n",
            "\n",
            "See the caveats in the documentation: https://pandas.pydata.org/pandas-docs/stable/user_guide/indexing.html#returning-a-view-versus-a-copy\n",
            "  \"\"\"Entry point for launching an IPython kernel.\n"
          ]
        }
      ]
    },
    {
      "cell_type": "code",
      "metadata": {
        "id": "LTiesbSJusTN"
      },
      "source": [
        "def create_soup(x):\n",
        "    return ''.join(x['tag'].lower()) + ' ' + ''.join(x['genresList'])"
      ],
      "execution_count": 21,
      "outputs": []
    },
    {
      "cell_type": "code",
      "metadata": {
        "id": "akny8eO8oZ8b",
        "colab": {
          "base_uri": "https://localhost:8080/"
        },
        "outputId": "f4df9a11-9660-47e8-db56-c72fc9b992be"
      },
      "source": [
        "movieAndGenres['soup'] = movieAndGenres.apply(create_soup, axis=1)\n",
        "movieAndGenres.reset_index(drop=True,inplace=True)"
      ],
      "execution_count": 22,
      "outputs": [
        {
          "output_type": "stream",
          "name": "stderr",
          "text": [
            "/usr/local/lib/python3.7/dist-packages/ipykernel_launcher.py:1: SettingWithCopyWarning: \n",
            "A value is trying to be set on a copy of a slice from a DataFrame.\n",
            "Try using .loc[row_indexer,col_indexer] = value instead\n",
            "\n",
            "See the caveats in the documentation: https://pandas.pydata.org/pandas-docs/stable/user_guide/indexing.html#returning-a-view-versus-a-copy\n",
            "  \"\"\"Entry point for launching an IPython kernel.\n"
          ]
        }
      ]
    },
    {
      "cell_type": "markdown",
      "metadata": {
        "id": "3MWBfF3ItfLE"
      },
      "source": [
        "#Word Soup\n"
      ]
    },
    {
      "cell_type": "code",
      "metadata": {
        "id": "TvOncahSwEvj"
      },
      "source": [
        "tfidf_matrix = tfidf.fit_transform(movieAndGenres['soup'])"
      ],
      "execution_count": 23,
      "outputs": []
    },
    {
      "cell_type": "code",
      "metadata": {
        "id": "xN3qhgSTwRbF"
      },
      "source": [
        "cosine_sim = linear_kernel(tfidf_matrix, tfidf_matrix)"
      ],
      "execution_count": 24,
      "outputs": []
    },
    {
      "cell_type": "code",
      "metadata": {
        "id": "txOPNZFd8TLE"
      },
      "source": [
        "movieAndGenresindices = pd.Series(movieAndGenres.index, index=movieAndGenres['title']).drop_duplicates()"
      ],
      "execution_count": 25,
      "outputs": []
    },
    {
      "cell_type": "code",
      "metadata": {
        "id": "rf7jlxKn8lYk",
        "colab": {
          "base_uri": "https://localhost:8080/"
        },
        "outputId": "943be2b9-e7a9-4f51-ef33-5f0f95167386"
      },
      "source": [
        "movieAndGenresindices"
      ],
      "execution_count": 26,
      "outputs": [
        {
          "output_type": "execute_result",
          "data": {
            "text/plain": [
              "title\n",
              "Step Brothers (2008)                                                0\n",
              "Warrior (2011)                                                      1\n",
              "Wolf of Wall Street, The (2013)                                     2\n",
              "Departed, The (2006)                                                3\n",
              "Carlito's Way (1993)                                                4\n",
              "                                                                 ... \n",
              "Tom Jones (1963)                                                 1567\n",
              "Staying Alive (1983)                                             1568\n",
              "Night of the Shooting Stars (Notte di San Lorenzo, La) (1982)    1569\n",
              "Shame (Skammen) (1968)                                           1570\n",
              "Hard-Boiled (Lat sau san taam) (1992)                            1571\n",
              "Length: 1572, dtype: int64"
            ]
          },
          "metadata": {},
          "execution_count": 26
        }
      ]
    },
    {
      "cell_type": "code",
      "metadata": {
        "id": "Wubyl2jQwH0a"
      },
      "source": [
        "def get_recommendations(title, cosine_sim=cosine_sim):\n",
        "\n",
        "    idx = movieAndGenresindices[title]\n",
        "\n",
        "    sim_scores = list(enumerate(cosine_sim[idx]))\n",
        "\n",
        "\n",
        "    sim_scores = sorted(sim_scores, key=lambda x: x[1], reverse=True)\n",
        "\n",
        "\n",
        "    sim_scores = sim_scores[1:11]\n",
        "\n",
        "\n",
        "    movie_indices = [i[0] for i in sim_scores]\n",
        "\n",
        "\n",
        "    return movieAndGenres[['title','soup']].iloc[movie_indices]"
      ],
      "execution_count": 27,
      "outputs": []
    },
    {
      "cell_type": "code",
      "metadata": {
        "id": "KvellF1_waJ7"
      },
      "source": [
        "testDF = pd.DataFrame(get_recommendations('Step Brothers (2008)'))"
      ],
      "execution_count": 28,
      "outputs": []
    },
    {
      "cell_type": "code",
      "metadata": {
        "colab": {
          "base_uri": "https://localhost:8080/"
        },
        "id": "5mhJB2Lqwrhi",
        "outputId": "58b29e78-cc3d-4493-f7f7-0dc3a0a0785c"
      },
      "source": [
        "movieAndGenresindices"
      ],
      "execution_count": 29,
      "outputs": [
        {
          "output_type": "execute_result",
          "data": {
            "text/plain": [
              "title\n",
              "Step Brothers (2008)                                                0\n",
              "Warrior (2011)                                                      1\n",
              "Wolf of Wall Street, The (2013)                                     2\n",
              "Departed, The (2006)                                                3\n",
              "Carlito's Way (1993)                                                4\n",
              "                                                                 ... \n",
              "Tom Jones (1963)                                                 1567\n",
              "Staying Alive (1983)                                             1568\n",
              "Night of the Shooting Stars (Notte di San Lorenzo, La) (1982)    1569\n",
              "Shame (Skammen) (1968)                                           1570\n",
              "Hard-Boiled (Lat sau san taam) (1992)                            1571\n",
              "Length: 1572, dtype: int64"
            ]
          },
          "metadata": {},
          "execution_count": 29
        }
      ]
    },
    {
      "cell_type": "code",
      "metadata": {
        "id": "IIlWkIu5wfiV"
      },
      "source": [
        "testDF.to_csv('/content/drive/MyDrive/output1.csv')"
      ],
      "execution_count": 31,
      "outputs": []
    },
    {
      "cell_type": "code",
      "metadata": {
        "id": "WmMJ4cIqw7wJ"
      },
      "source": [
        "import streamlit as st\n",
        "import pandas as pd\n",
        "import numpy as np"
      ],
      "execution_count": 32,
      "outputs": []
    },
    {
      "cell_type": "code",
      "metadata": {
        "colab": {
          "base_uri": "https://localhost:8080/"
        },
        "id": "1eeKBq4yt5mw",
        "outputId": "fac67e2a-4cad-4256-f513-33e89280650a"
      },
      "source": [
        "%%writefile app.py\n",
        "import streamlit as st\n",
        "import pandas as pd\n",
        "PAGE_CONFIG = {\"page_title\":\"Movie Recommender\",\"page_icon\":\":movie_camera:\",\"layout\":\"centered\"}\n",
        "st.set_page_config(**PAGE_CONFIG)\n",
        "def main():\n",
        "  st.title(\"Movie Recommender\")\n",
        "  st.dataframe(pd.read_csv('/content/drive/MyDrive/output1.csv'))\n",
        "  \n",
        "if __name__ == '__main__':\n",
        "\tmain()"
      ],
      "execution_count": 39,
      "outputs": [
        {
          "output_type": "stream",
          "name": "stdout",
          "text": [
            "Overwriting app.py\n"
          ]
        }
      ]
    },
    {
      "cell_type": "code",
      "metadata": {
        "id": "xDDunb6RuFLp"
      },
      "source": [
        "!streamlit run app.py &>/dev/null&"
      ],
      "execution_count": 41,
      "outputs": []
    },
    {
      "cell_type": "code",
      "metadata": {
        "colab": {
          "base_uri": "https://localhost:8080/"
        },
        "id": "N7pYrNOUuI2e",
        "outputId": "997b623e-5583-4bfe-87ae-a89868f6f855"
      },
      "source": [
        "!pgrep streamlit"
      ],
      "execution_count": 42,
      "outputs": [
        {
          "output_type": "stream",
          "name": "stdout",
          "text": [
            "428\n",
            "508\n",
            "542\n",
            "677\n",
            "719\n",
            "750\n",
            "882\n",
            "929\n",
            "1006\n",
            "1138\n",
            "1179\n"
          ]
        }
      ]
    },
    {
      "cell_type": "code",
      "metadata": {
        "colab": {
          "base_uri": "https://localhost:8080/",
          "height": 206
        },
        "id": "Dd5RtvixuKXB",
        "outputId": "f4ec51f0-41c3-4174-ecc9-60c35482640c"
      },
      "source": [
        "from pyngrok import ngrok# Setup a tunnel to the streamlit port 8501\n",
        "public_url = ngrok.connect(port='8501')\n",
        "public_url"
      ],
      "execution_count": 43,
      "outputs": [
        {
          "output_type": "stream",
          "name": "stderr",
          "text": [
            "2021-08-31 01:13:08.667 INFO    pyngrok.process: t=2021-08-31T01:13:08+0000 lvl=info msg=start pg=/api/tunnels id=e6b81f2338cf5ebe\n",
            "\n",
            "2021-08-31 01:13:08.753 INFO    pyngrok.process: t=2021-08-31T01:13:08+0000 lvl=info msg=\"started tunnel\" obj=tunnels name=\"http-8501-d1c6aef3-3763-4244-b3e8-2960b664375f (http)\" addr=http://localhost:8501 url=http://fb92-34-73-71-140.ngrok.io\n",
            "\n",
            "2021-08-31 01:13:08.757 INFO    pyngrok.process: t=2021-08-31T01:13:08+0000 lvl=info msg=\"started tunnel\" obj=tunnels name=http-8501-d1c6aef3-3763-4244-b3e8-2960b664375f addr=http://localhost:8501 url=https://fb92-34-73-71-140.ngrok.io\n",
            "\n"
          ]
        },
        {
          "output_type": "execute_result",
          "data": {
            "application/vnd.google.colaboratory.intrinsic+json": {
              "type": "string"
            },
            "text/plain": [
              "'http://fb92-34-73-71-140.ngrok.io'"
            ]
          },
          "metadata": {},
          "execution_count": 43
        },
        {
          "output_type": "stream",
          "name": "stderr",
          "text": [
            "2021-08-31 01:13:08.763 INFO    pyngrok.process: t=2021-08-31T01:13:08+0000 lvl=info msg=end pg=/api/tunnels id=e6b81f2338cf5ebe status=201 dur=86.247969ms\n",
            "\n"
          ]
        }
      ]
    }
  ]
}