{
  "nbformat": 4,
  "nbformat_minor": 0,
  "metadata": {
    "colab": {
      "name": "MiniProject.ipynb",
      "provenance": [],
      "collapsed_sections": [],
      "mount_file_id": "1xzpW5nKJHL3fkfWETu3g2YopDdWlsCqX",
      "authorship_tag": "ABX9TyN7dEbg0G39D6qrfXF/VHwG",
      "include_colab_link": true
    },
    "kernelspec": {
      "name": "python3",
      "display_name": "Python 3"
    },
    "language_info": {
      "name": "python"
    }
  },
  "cells": [
    {
      "cell_type": "markdown",
      "metadata": {
        "id": "view-in-github",
        "colab_type": "text"
      },
      "source": [
        "<a href=\"https://colab.research.google.com/github/JamesKha/MovieRecommendation/blob/main/MiniProject.ipynb\" target=\"_parent\"><img src=\"https://colab.research.google.com/assets/colab-badge.svg\" alt=\"Open In Colab\"/></a>"
      ]
    },
    {
      "cell_type": "code",
      "metadata": {
        "id": "5f-0AdLxCcQ8"
      },
      "source": [
        "import pandas as pd\n",
        "from nltk.stem.porter import *\n",
        "import string\n",
        "from rake_nltk import Rake"
      ],
      "execution_count": 1,
      "outputs": []
    },
    {
      "cell_type": "code",
      "metadata": {
        "id": "b0mW3h0bCe8S"
      },
      "source": [
        "linksDF = pd.read_csv('/content/drive/MyDrive/Miniproject Files/links.csv')\n",
        "moviesDF = pd.read_csv('/content/drive/MyDrive/Miniproject Files/movies.csv')\n",
        "ratingsDF = pd.read_csv('/content/drive/MyDrive/Miniproject Files/ratings.csv')\n",
        "tagsDF = pd.read_csv('/content/drive/MyDrive/Miniproject Files/tags.csv')"
      ],
      "execution_count": 2,
      "outputs": []
    },
    {
      "cell_type": "markdown",
      "metadata": {
        "id": "67mEJno_DAjg"
      },
      "source": [
        "#Inspecting the dataframes"
      ]
    },
    {
      "cell_type": "code",
      "metadata": {
        "colab": {
          "base_uri": "https://localhost:8080/",
          "height": 206
        },
        "id": "6GYIf6c1DD0w",
        "outputId": "86452168-14b0-406f-afa7-4111e50ee96d"
      },
      "source": [
        "linksDF.head()"
      ],
      "execution_count": 3,
      "outputs": [
        {
          "output_type": "execute_result",
          "data": {
            "text/html": [
              "<div>\n",
              "<style scoped>\n",
              "    .dataframe tbody tr th:only-of-type {\n",
              "        vertical-align: middle;\n",
              "    }\n",
              "\n",
              "    .dataframe tbody tr th {\n",
              "        vertical-align: top;\n",
              "    }\n",
              "\n",
              "    .dataframe thead th {\n",
              "        text-align: right;\n",
              "    }\n",
              "</style>\n",
              "<table border=\"1\" class=\"dataframe\">\n",
              "  <thead>\n",
              "    <tr style=\"text-align: right;\">\n",
              "      <th></th>\n",
              "      <th>movieId</th>\n",
              "      <th>imdbId</th>\n",
              "      <th>tmdbId</th>\n",
              "    </tr>\n",
              "  </thead>\n",
              "  <tbody>\n",
              "    <tr>\n",
              "      <th>0</th>\n",
              "      <td>1</td>\n",
              "      <td>114709</td>\n",
              "      <td>862.0</td>\n",
              "    </tr>\n",
              "    <tr>\n",
              "      <th>1</th>\n",
              "      <td>2</td>\n",
              "      <td>113497</td>\n",
              "      <td>8844.0</td>\n",
              "    </tr>\n",
              "    <tr>\n",
              "      <th>2</th>\n",
              "      <td>3</td>\n",
              "      <td>113228</td>\n",
              "      <td>15602.0</td>\n",
              "    </tr>\n",
              "    <tr>\n",
              "      <th>3</th>\n",
              "      <td>4</td>\n",
              "      <td>114885</td>\n",
              "      <td>31357.0</td>\n",
              "    </tr>\n",
              "    <tr>\n",
              "      <th>4</th>\n",
              "      <td>5</td>\n",
              "      <td>113041</td>\n",
              "      <td>11862.0</td>\n",
              "    </tr>\n",
              "  </tbody>\n",
              "</table>\n",
              "</div>"
            ],
            "text/plain": [
              "   movieId  imdbId   tmdbId\n",
              "0        1  114709    862.0\n",
              "1        2  113497   8844.0\n",
              "2        3  113228  15602.0\n",
              "3        4  114885  31357.0\n",
              "4        5  113041  11862.0"
            ]
          },
          "metadata": {},
          "execution_count": 3
        }
      ]
    },
    {
      "cell_type": "code",
      "metadata": {
        "colab": {
          "base_uri": "https://localhost:8080/",
          "height": 206
        },
        "id": "Z29tNvoWDIZF",
        "outputId": "44c4bcb5-0f21-4899-8ca2-302b5c330054"
      },
      "source": [
        "moviesDF.head()"
      ],
      "execution_count": 4,
      "outputs": [
        {
          "output_type": "execute_result",
          "data": {
            "text/html": [
              "<div>\n",
              "<style scoped>\n",
              "    .dataframe tbody tr th:only-of-type {\n",
              "        vertical-align: middle;\n",
              "    }\n",
              "\n",
              "    .dataframe tbody tr th {\n",
              "        vertical-align: top;\n",
              "    }\n",
              "\n",
              "    .dataframe thead th {\n",
              "        text-align: right;\n",
              "    }\n",
              "</style>\n",
              "<table border=\"1\" class=\"dataframe\">\n",
              "  <thead>\n",
              "    <tr style=\"text-align: right;\">\n",
              "      <th></th>\n",
              "      <th>movieId</th>\n",
              "      <th>title</th>\n",
              "      <th>genres</th>\n",
              "    </tr>\n",
              "  </thead>\n",
              "  <tbody>\n",
              "    <tr>\n",
              "      <th>0</th>\n",
              "      <td>1</td>\n",
              "      <td>Toy Story (1995)</td>\n",
              "      <td>Adventure|Animation|Children|Comedy|Fantasy</td>\n",
              "    </tr>\n",
              "    <tr>\n",
              "      <th>1</th>\n",
              "      <td>2</td>\n",
              "      <td>Jumanji (1995)</td>\n",
              "      <td>Adventure|Children|Fantasy</td>\n",
              "    </tr>\n",
              "    <tr>\n",
              "      <th>2</th>\n",
              "      <td>3</td>\n",
              "      <td>Grumpier Old Men (1995)</td>\n",
              "      <td>Comedy|Romance</td>\n",
              "    </tr>\n",
              "    <tr>\n",
              "      <th>3</th>\n",
              "      <td>4</td>\n",
              "      <td>Waiting to Exhale (1995)</td>\n",
              "      <td>Comedy|Drama|Romance</td>\n",
              "    </tr>\n",
              "    <tr>\n",
              "      <th>4</th>\n",
              "      <td>5</td>\n",
              "      <td>Father of the Bride Part II (1995)</td>\n",
              "      <td>Comedy</td>\n",
              "    </tr>\n",
              "  </tbody>\n",
              "</table>\n",
              "</div>"
            ],
            "text/plain": [
              "   movieId  ...                                       genres\n",
              "0        1  ...  Adventure|Animation|Children|Comedy|Fantasy\n",
              "1        2  ...                   Adventure|Children|Fantasy\n",
              "2        3  ...                               Comedy|Romance\n",
              "3        4  ...                         Comedy|Drama|Romance\n",
              "4        5  ...                                       Comedy\n",
              "\n",
              "[5 rows x 3 columns]"
            ]
          },
          "metadata": {},
          "execution_count": 4
        }
      ]
    },
    {
      "cell_type": "code",
      "metadata": {
        "colab": {
          "base_uri": "https://localhost:8080/",
          "height": 206
        },
        "id": "-kjX9UGuDKpm",
        "outputId": "c759f4df-eefd-4143-e0e7-65240365d50f"
      },
      "source": [
        "ratingsDF.head()"
      ],
      "execution_count": 5,
      "outputs": [
        {
          "output_type": "execute_result",
          "data": {
            "text/html": [
              "<div>\n",
              "<style scoped>\n",
              "    .dataframe tbody tr th:only-of-type {\n",
              "        vertical-align: middle;\n",
              "    }\n",
              "\n",
              "    .dataframe tbody tr th {\n",
              "        vertical-align: top;\n",
              "    }\n",
              "\n",
              "    .dataframe thead th {\n",
              "        text-align: right;\n",
              "    }\n",
              "</style>\n",
              "<table border=\"1\" class=\"dataframe\">\n",
              "  <thead>\n",
              "    <tr style=\"text-align: right;\">\n",
              "      <th></th>\n",
              "      <th>userId</th>\n",
              "      <th>movieId</th>\n",
              "      <th>rating</th>\n",
              "      <th>timestamp</th>\n",
              "    </tr>\n",
              "  </thead>\n",
              "  <tbody>\n",
              "    <tr>\n",
              "      <th>0</th>\n",
              "      <td>1</td>\n",
              "      <td>1</td>\n",
              "      <td>4.0</td>\n",
              "      <td>964982703</td>\n",
              "    </tr>\n",
              "    <tr>\n",
              "      <th>1</th>\n",
              "      <td>1</td>\n",
              "      <td>3</td>\n",
              "      <td>4.0</td>\n",
              "      <td>964981247</td>\n",
              "    </tr>\n",
              "    <tr>\n",
              "      <th>2</th>\n",
              "      <td>1</td>\n",
              "      <td>6</td>\n",
              "      <td>4.0</td>\n",
              "      <td>964982224</td>\n",
              "    </tr>\n",
              "    <tr>\n",
              "      <th>3</th>\n",
              "      <td>1</td>\n",
              "      <td>47</td>\n",
              "      <td>5.0</td>\n",
              "      <td>964983815</td>\n",
              "    </tr>\n",
              "    <tr>\n",
              "      <th>4</th>\n",
              "      <td>1</td>\n",
              "      <td>50</td>\n",
              "      <td>5.0</td>\n",
              "      <td>964982931</td>\n",
              "    </tr>\n",
              "  </tbody>\n",
              "</table>\n",
              "</div>"
            ],
            "text/plain": [
              "   userId  movieId  rating  timestamp\n",
              "0       1        1     4.0  964982703\n",
              "1       1        3     4.0  964981247\n",
              "2       1        6     4.0  964982224\n",
              "3       1       47     5.0  964983815\n",
              "4       1       50     5.0  964982931"
            ]
          },
          "metadata": {},
          "execution_count": 5
        }
      ]
    },
    {
      "cell_type": "code",
      "metadata": {
        "colab": {
          "base_uri": "https://localhost:8080/",
          "height": 206
        },
        "id": "k8_622OHDOeu",
        "outputId": "23e912fb-c0e2-40cb-d8c3-fbd70842a84d"
      },
      "source": [
        "tagsDF.head()"
      ],
      "execution_count": 6,
      "outputs": [
        {
          "output_type": "execute_result",
          "data": {
            "text/html": [
              "<div>\n",
              "<style scoped>\n",
              "    .dataframe tbody tr th:only-of-type {\n",
              "        vertical-align: middle;\n",
              "    }\n",
              "\n",
              "    .dataframe tbody tr th {\n",
              "        vertical-align: top;\n",
              "    }\n",
              "\n",
              "    .dataframe thead th {\n",
              "        text-align: right;\n",
              "    }\n",
              "</style>\n",
              "<table border=\"1\" class=\"dataframe\">\n",
              "  <thead>\n",
              "    <tr style=\"text-align: right;\">\n",
              "      <th></th>\n",
              "      <th>userId</th>\n",
              "      <th>movieId</th>\n",
              "      <th>tag</th>\n",
              "      <th>timestamp</th>\n",
              "    </tr>\n",
              "  </thead>\n",
              "  <tbody>\n",
              "    <tr>\n",
              "      <th>0</th>\n",
              "      <td>2</td>\n",
              "      <td>60756</td>\n",
              "      <td>funny</td>\n",
              "      <td>1445714994</td>\n",
              "    </tr>\n",
              "    <tr>\n",
              "      <th>1</th>\n",
              "      <td>2</td>\n",
              "      <td>60756</td>\n",
              "      <td>Highly quotable</td>\n",
              "      <td>1445714996</td>\n",
              "    </tr>\n",
              "    <tr>\n",
              "      <th>2</th>\n",
              "      <td>2</td>\n",
              "      <td>60756</td>\n",
              "      <td>will ferrell</td>\n",
              "      <td>1445714992</td>\n",
              "    </tr>\n",
              "    <tr>\n",
              "      <th>3</th>\n",
              "      <td>2</td>\n",
              "      <td>89774</td>\n",
              "      <td>Boxing story</td>\n",
              "      <td>1445715207</td>\n",
              "    </tr>\n",
              "    <tr>\n",
              "      <th>4</th>\n",
              "      <td>2</td>\n",
              "      <td>89774</td>\n",
              "      <td>MMA</td>\n",
              "      <td>1445715200</td>\n",
              "    </tr>\n",
              "  </tbody>\n",
              "</table>\n",
              "</div>"
            ],
            "text/plain": [
              "   userId  movieId              tag   timestamp\n",
              "0       2    60756            funny  1445714994\n",
              "1       2    60756  Highly quotable  1445714996\n",
              "2       2    60756     will ferrell  1445714992\n",
              "3       2    89774     Boxing story  1445715207\n",
              "4       2    89774              MMA  1445715200"
            ]
          },
          "metadata": {},
          "execution_count": 6
        }
      ]
    },
    {
      "cell_type": "code",
      "metadata": {
        "id": "g4tmlGoeDSAU"
      },
      "source": [
        ""
      ],
      "execution_count": 6,
      "outputs": []
    },
    {
      "cell_type": "markdown",
      "metadata": {
        "id": "GnK2OsSLDXkw"
      },
      "source": [
        "#Connecting the dataframes based on movie id number"
      ]
    },
    {
      "cell_type": "markdown",
      "metadata": {
        "id": "FLMKGwjkMU-L"
      },
      "source": [
        "##Title and genres added"
      ]
    },
    {
      "cell_type": "code",
      "metadata": {
        "colab": {
          "base_uri": "https://localhost:8080/",
          "height": 424
        },
        "id": "vfvutvGKDcIQ",
        "outputId": "80dc89e0-1f0d-47b5-b2d8-f112a806777f"
      },
      "source": [
        "userRatingsDataFrame = pd.merge(linksDF, ratingsDF, on='movieId' )\n",
        "userRatingsDataFrame = userRatingsDataFrame.rename({'timestamp':'ratingTimestamp'},axis='columns')\n",
        "userRatingsDataFrame = pd.merge(userRatingsDataFrame, moviesDF, on='movieId')\n",
        "userRatingsDataFrame"
      ],
      "execution_count": 7,
      "outputs": [
        {
          "output_type": "execute_result",
          "data": {
            "text/html": [
              "<div>\n",
              "<style scoped>\n",
              "    .dataframe tbody tr th:only-of-type {\n",
              "        vertical-align: middle;\n",
              "    }\n",
              "\n",
              "    .dataframe tbody tr th {\n",
              "        vertical-align: top;\n",
              "    }\n",
              "\n",
              "    .dataframe thead th {\n",
              "        text-align: right;\n",
              "    }\n",
              "</style>\n",
              "<table border=\"1\" class=\"dataframe\">\n",
              "  <thead>\n",
              "    <tr style=\"text-align: right;\">\n",
              "      <th></th>\n",
              "      <th>movieId</th>\n",
              "      <th>imdbId</th>\n",
              "      <th>tmdbId</th>\n",
              "      <th>userId</th>\n",
              "      <th>rating</th>\n",
              "      <th>ratingTimestamp</th>\n",
              "      <th>title</th>\n",
              "      <th>genres</th>\n",
              "    </tr>\n",
              "  </thead>\n",
              "  <tbody>\n",
              "    <tr>\n",
              "      <th>0</th>\n",
              "      <td>1</td>\n",
              "      <td>114709</td>\n",
              "      <td>862.0</td>\n",
              "      <td>1</td>\n",
              "      <td>4.0</td>\n",
              "      <td>964982703</td>\n",
              "      <td>Toy Story (1995)</td>\n",
              "      <td>Adventure|Animation|Children|Comedy|Fantasy</td>\n",
              "    </tr>\n",
              "    <tr>\n",
              "      <th>1</th>\n",
              "      <td>1</td>\n",
              "      <td>114709</td>\n",
              "      <td>862.0</td>\n",
              "      <td>5</td>\n",
              "      <td>4.0</td>\n",
              "      <td>847434962</td>\n",
              "      <td>Toy Story (1995)</td>\n",
              "      <td>Adventure|Animation|Children|Comedy|Fantasy</td>\n",
              "    </tr>\n",
              "    <tr>\n",
              "      <th>2</th>\n",
              "      <td>1</td>\n",
              "      <td>114709</td>\n",
              "      <td>862.0</td>\n",
              "      <td>7</td>\n",
              "      <td>4.5</td>\n",
              "      <td>1106635946</td>\n",
              "      <td>Toy Story (1995)</td>\n",
              "      <td>Adventure|Animation|Children|Comedy|Fantasy</td>\n",
              "    </tr>\n",
              "    <tr>\n",
              "      <th>3</th>\n",
              "      <td>1</td>\n",
              "      <td>114709</td>\n",
              "      <td>862.0</td>\n",
              "      <td>15</td>\n",
              "      <td>2.5</td>\n",
              "      <td>1510577970</td>\n",
              "      <td>Toy Story (1995)</td>\n",
              "      <td>Adventure|Animation|Children|Comedy|Fantasy</td>\n",
              "    </tr>\n",
              "    <tr>\n",
              "      <th>4</th>\n",
              "      <td>1</td>\n",
              "      <td>114709</td>\n",
              "      <td>862.0</td>\n",
              "      <td>17</td>\n",
              "      <td>4.5</td>\n",
              "      <td>1305696483</td>\n",
              "      <td>Toy Story (1995)</td>\n",
              "      <td>Adventure|Animation|Children|Comedy|Fantasy</td>\n",
              "    </tr>\n",
              "    <tr>\n",
              "      <th>...</th>\n",
              "      <td>...</td>\n",
              "      <td>...</td>\n",
              "      <td>...</td>\n",
              "      <td>...</td>\n",
              "      <td>...</td>\n",
              "      <td>...</td>\n",
              "      <td>...</td>\n",
              "      <td>...</td>\n",
              "    </tr>\n",
              "    <tr>\n",
              "      <th>100831</th>\n",
              "      <td>193581</td>\n",
              "      <td>5476944</td>\n",
              "      <td>432131.0</td>\n",
              "      <td>184</td>\n",
              "      <td>4.0</td>\n",
              "      <td>1537109082</td>\n",
              "      <td>Black Butler: Book of the Atlantic (2017)</td>\n",
              "      <td>Action|Animation|Comedy|Fantasy</td>\n",
              "    </tr>\n",
              "    <tr>\n",
              "      <th>100832</th>\n",
              "      <td>193583</td>\n",
              "      <td>5914996</td>\n",
              "      <td>445030.0</td>\n",
              "      <td>184</td>\n",
              "      <td>3.5</td>\n",
              "      <td>1537109545</td>\n",
              "      <td>No Game No Life: Zero (2017)</td>\n",
              "      <td>Animation|Comedy|Fantasy</td>\n",
              "    </tr>\n",
              "    <tr>\n",
              "      <th>100833</th>\n",
              "      <td>193585</td>\n",
              "      <td>6397426</td>\n",
              "      <td>479308.0</td>\n",
              "      <td>184</td>\n",
              "      <td>3.5</td>\n",
              "      <td>1537109805</td>\n",
              "      <td>Flint (2017)</td>\n",
              "      <td>Drama</td>\n",
              "    </tr>\n",
              "    <tr>\n",
              "      <th>100834</th>\n",
              "      <td>193587</td>\n",
              "      <td>8391976</td>\n",
              "      <td>483455.0</td>\n",
              "      <td>184</td>\n",
              "      <td>3.5</td>\n",
              "      <td>1537110021</td>\n",
              "      <td>Bungo Stray Dogs: Dead Apple (2018)</td>\n",
              "      <td>Action|Animation</td>\n",
              "    </tr>\n",
              "    <tr>\n",
              "      <th>100835</th>\n",
              "      <td>193609</td>\n",
              "      <td>101726</td>\n",
              "      <td>37891.0</td>\n",
              "      <td>331</td>\n",
              "      <td>4.0</td>\n",
              "      <td>1537157606</td>\n",
              "      <td>Andrew Dice Clay: Dice Rules (1991)</td>\n",
              "      <td>Comedy</td>\n",
              "    </tr>\n",
              "  </tbody>\n",
              "</table>\n",
              "<p>100836 rows × 8 columns</p>\n",
              "</div>"
            ],
            "text/plain": [
              "        movieId  ...                                       genres\n",
              "0             1  ...  Adventure|Animation|Children|Comedy|Fantasy\n",
              "1             1  ...  Adventure|Animation|Children|Comedy|Fantasy\n",
              "2             1  ...  Adventure|Animation|Children|Comedy|Fantasy\n",
              "3             1  ...  Adventure|Animation|Children|Comedy|Fantasy\n",
              "4             1  ...  Adventure|Animation|Children|Comedy|Fantasy\n",
              "...         ...  ...                                          ...\n",
              "100831   193581  ...              Action|Animation|Comedy|Fantasy\n",
              "100832   193583  ...                     Animation|Comedy|Fantasy\n",
              "100833   193585  ...                                        Drama\n",
              "100834   193587  ...                             Action|Animation\n",
              "100835   193609  ...                                       Comedy\n",
              "\n",
              "[100836 rows x 8 columns]"
            ]
          },
          "metadata": {},
          "execution_count": 7
        }
      ]
    },
    {
      "cell_type": "markdown",
      "metadata": {
        "id": "coeYAyJgGpRI"
      },
      "source": [
        "#Cleaning text tags"
      ]
    },
    {
      "cell_type": "code",
      "metadata": {
        "colab": {
          "base_uri": "https://localhost:8080/"
        },
        "id": "bkMjWsvVE6jc",
        "outputId": "daa453b8-dc57-463b-f4e8-3c0e36e11c7a"
      },
      "source": [
        "tagsDF['tag'].str.lower().value_counts()"
      ],
      "execution_count": 8,
      "outputs": [
        {
          "output_type": "execute_result",
          "data": {
            "text/plain": [
              "in netflix queue               131\n",
              "atmospheric                     41\n",
              "superhero                       24\n",
              "funny                           24\n",
              "surreal                         24\n",
              "                              ... \n",
              "may-december romance             1\n",
              "political right versus left      1\n",
              "brittany murphy                  1\n",
              "venice                           1\n",
              "stone age                        1\n",
              "Name: tag, Length: 1475, dtype: int64"
            ]
          },
          "metadata": {},
          "execution_count": 8
        }
      ]
    },
    {
      "cell_type": "markdown",
      "metadata": {
        "id": "Y7S0vCnwIGUE"
      },
      "source": [
        "##Removing numbers from the tags"
      ]
    },
    {
      "cell_type": "code",
      "metadata": {
        "id": "vsI5VfZ_IKgk"
      },
      "source": [
        "tagsDF['tag'] = tagsDF['tag'].str.replace(r'\\d+', r' ')"
      ],
      "execution_count": 9,
      "outputs": []
    },
    {
      "cell_type": "code",
      "metadata": {
        "id": "YIzXBu_rJZlD"
      },
      "source": [
        "tagsDF['tag'] = tagsDF['tag'].str.replace(r'[^\\w\\s]', r' ')"
      ],
      "execution_count": 10,
      "outputs": []
    },
    {
      "cell_type": "code",
      "metadata": {
        "id": "HMBVawp-HD27"
      },
      "source": [
        "tagsDFCopy = tagsDF"
      ],
      "execution_count": 11,
      "outputs": []
    },
    {
      "cell_type": "code",
      "metadata": {
        "colab": {
          "base_uri": "https://localhost:8080/",
          "height": 424
        },
        "id": "HOMt5_cHISYD",
        "outputId": "c147f083-f17e-435b-8bc0-42b1d55c51d4"
      },
      "source": [
        "tagsDFCopy"
      ],
      "execution_count": 12,
      "outputs": [
        {
          "output_type": "execute_result",
          "data": {
            "text/html": [
              "<div>\n",
              "<style scoped>\n",
              "    .dataframe tbody tr th:only-of-type {\n",
              "        vertical-align: middle;\n",
              "    }\n",
              "\n",
              "    .dataframe tbody tr th {\n",
              "        vertical-align: top;\n",
              "    }\n",
              "\n",
              "    .dataframe thead th {\n",
              "        text-align: right;\n",
              "    }\n",
              "</style>\n",
              "<table border=\"1\" class=\"dataframe\">\n",
              "  <thead>\n",
              "    <tr style=\"text-align: right;\">\n",
              "      <th></th>\n",
              "      <th>userId</th>\n",
              "      <th>movieId</th>\n",
              "      <th>tag</th>\n",
              "      <th>timestamp</th>\n",
              "    </tr>\n",
              "  </thead>\n",
              "  <tbody>\n",
              "    <tr>\n",
              "      <th>0</th>\n",
              "      <td>2</td>\n",
              "      <td>60756</td>\n",
              "      <td>funny</td>\n",
              "      <td>1445714994</td>\n",
              "    </tr>\n",
              "    <tr>\n",
              "      <th>1</th>\n",
              "      <td>2</td>\n",
              "      <td>60756</td>\n",
              "      <td>Highly quotable</td>\n",
              "      <td>1445714996</td>\n",
              "    </tr>\n",
              "    <tr>\n",
              "      <th>2</th>\n",
              "      <td>2</td>\n",
              "      <td>60756</td>\n",
              "      <td>will ferrell</td>\n",
              "      <td>1445714992</td>\n",
              "    </tr>\n",
              "    <tr>\n",
              "      <th>3</th>\n",
              "      <td>2</td>\n",
              "      <td>89774</td>\n",
              "      <td>Boxing story</td>\n",
              "      <td>1445715207</td>\n",
              "    </tr>\n",
              "    <tr>\n",
              "      <th>4</th>\n",
              "      <td>2</td>\n",
              "      <td>89774</td>\n",
              "      <td>MMA</td>\n",
              "      <td>1445715200</td>\n",
              "    </tr>\n",
              "    <tr>\n",
              "      <th>...</th>\n",
              "      <td>...</td>\n",
              "      <td>...</td>\n",
              "      <td>...</td>\n",
              "      <td>...</td>\n",
              "    </tr>\n",
              "    <tr>\n",
              "      <th>3678</th>\n",
              "      <td>606</td>\n",
              "      <td>7382</td>\n",
              "      <td>for katie</td>\n",
              "      <td>1171234019</td>\n",
              "    </tr>\n",
              "    <tr>\n",
              "      <th>3679</th>\n",
              "      <td>606</td>\n",
              "      <td>7936</td>\n",
              "      <td>austere</td>\n",
              "      <td>1173392334</td>\n",
              "    </tr>\n",
              "    <tr>\n",
              "      <th>3680</th>\n",
              "      <td>610</td>\n",
              "      <td>3265</td>\n",
              "      <td>gun fu</td>\n",
              "      <td>1493843984</td>\n",
              "    </tr>\n",
              "    <tr>\n",
              "      <th>3681</th>\n",
              "      <td>610</td>\n",
              "      <td>3265</td>\n",
              "      <td>heroic bloodshed</td>\n",
              "      <td>1493843978</td>\n",
              "    </tr>\n",
              "    <tr>\n",
              "      <th>3682</th>\n",
              "      <td>610</td>\n",
              "      <td>168248</td>\n",
              "      <td>Heroic Bloodshed</td>\n",
              "      <td>1493844270</td>\n",
              "    </tr>\n",
              "  </tbody>\n",
              "</table>\n",
              "<p>3683 rows × 4 columns</p>\n",
              "</div>"
            ],
            "text/plain": [
              "      userId  movieId               tag   timestamp\n",
              "0          2    60756             funny  1445714994\n",
              "1          2    60756   Highly quotable  1445714996\n",
              "2          2    60756      will ferrell  1445714992\n",
              "3          2    89774      Boxing story  1445715207\n",
              "4          2    89774               MMA  1445715200\n",
              "...      ...      ...               ...         ...\n",
              "3678     606     7382         for katie  1171234019\n",
              "3679     606     7936           austere  1173392334\n",
              "3680     610     3265            gun fu  1493843984\n",
              "3681     610     3265  heroic bloodshed  1493843978\n",
              "3682     610   168248  Heroic Bloodshed  1493844270\n",
              "\n",
              "[3683 rows x 4 columns]"
            ]
          },
          "metadata": {},
          "execution_count": 12
        }
      ]
    },
    {
      "cell_type": "markdown",
      "metadata": {
        "id": "lCatitAMHXCk"
      },
      "source": [
        "##Experiementing with stemmer"
      ]
    },
    {
      "cell_type": "code",
      "metadata": {
        "id": "EICB8XhwG08l"
      },
      "source": [
        "stemmer = PorterStemmer()"
      ],
      "execution_count": 13,
      "outputs": []
    },
    {
      "cell_type": "code",
      "metadata": {
        "id": "j2QL5c1iHg1y"
      },
      "source": [
        "tagsDF['tag'] = tagsDF['tag'].apply(lambda row: \" \".join([stemmer.stem(word) for word in row.split(\" \")]))\n"
      ],
      "execution_count": 14,
      "outputs": []
    },
    {
      "cell_type": "code",
      "metadata": {
        "colab": {
          "base_uri": "https://localhost:8080/",
          "height": 424
        },
        "id": "mCWmajgWHlnu",
        "outputId": "1220c7a2-4a7f-45f4-f430-d5d2aa611d14"
      },
      "source": [
        "tagsDF"
      ],
      "execution_count": 15,
      "outputs": [
        {
          "output_type": "execute_result",
          "data": {
            "text/html": [
              "<div>\n",
              "<style scoped>\n",
              "    .dataframe tbody tr th:only-of-type {\n",
              "        vertical-align: middle;\n",
              "    }\n",
              "\n",
              "    .dataframe tbody tr th {\n",
              "        vertical-align: top;\n",
              "    }\n",
              "\n",
              "    .dataframe thead th {\n",
              "        text-align: right;\n",
              "    }\n",
              "</style>\n",
              "<table border=\"1\" class=\"dataframe\">\n",
              "  <thead>\n",
              "    <tr style=\"text-align: right;\">\n",
              "      <th></th>\n",
              "      <th>userId</th>\n",
              "      <th>movieId</th>\n",
              "      <th>tag</th>\n",
              "      <th>timestamp</th>\n",
              "    </tr>\n",
              "  </thead>\n",
              "  <tbody>\n",
              "    <tr>\n",
              "      <th>0</th>\n",
              "      <td>2</td>\n",
              "      <td>60756</td>\n",
              "      <td>funni</td>\n",
              "      <td>1445714994</td>\n",
              "    </tr>\n",
              "    <tr>\n",
              "      <th>1</th>\n",
              "      <td>2</td>\n",
              "      <td>60756</td>\n",
              "      <td>highli quotabl</td>\n",
              "      <td>1445714996</td>\n",
              "    </tr>\n",
              "    <tr>\n",
              "      <th>2</th>\n",
              "      <td>2</td>\n",
              "      <td>60756</td>\n",
              "      <td>will ferrel</td>\n",
              "      <td>1445714992</td>\n",
              "    </tr>\n",
              "    <tr>\n",
              "      <th>3</th>\n",
              "      <td>2</td>\n",
              "      <td>89774</td>\n",
              "      <td>box stori</td>\n",
              "      <td>1445715207</td>\n",
              "    </tr>\n",
              "    <tr>\n",
              "      <th>4</th>\n",
              "      <td>2</td>\n",
              "      <td>89774</td>\n",
              "      <td>mma</td>\n",
              "      <td>1445715200</td>\n",
              "    </tr>\n",
              "    <tr>\n",
              "      <th>...</th>\n",
              "      <td>...</td>\n",
              "      <td>...</td>\n",
              "      <td>...</td>\n",
              "      <td>...</td>\n",
              "    </tr>\n",
              "    <tr>\n",
              "      <th>3678</th>\n",
              "      <td>606</td>\n",
              "      <td>7382</td>\n",
              "      <td>for kati</td>\n",
              "      <td>1171234019</td>\n",
              "    </tr>\n",
              "    <tr>\n",
              "      <th>3679</th>\n",
              "      <td>606</td>\n",
              "      <td>7936</td>\n",
              "      <td>auster</td>\n",
              "      <td>1173392334</td>\n",
              "    </tr>\n",
              "    <tr>\n",
              "      <th>3680</th>\n",
              "      <td>610</td>\n",
              "      <td>3265</td>\n",
              "      <td>gun fu</td>\n",
              "      <td>1493843984</td>\n",
              "    </tr>\n",
              "    <tr>\n",
              "      <th>3681</th>\n",
              "      <td>610</td>\n",
              "      <td>3265</td>\n",
              "      <td>heroic bloodsh</td>\n",
              "      <td>1493843978</td>\n",
              "    </tr>\n",
              "    <tr>\n",
              "      <th>3682</th>\n",
              "      <td>610</td>\n",
              "      <td>168248</td>\n",
              "      <td>heroic bloodsh</td>\n",
              "      <td>1493844270</td>\n",
              "    </tr>\n",
              "  </tbody>\n",
              "</table>\n",
              "<p>3683 rows × 4 columns</p>\n",
              "</div>"
            ],
            "text/plain": [
              "      userId  movieId             tag   timestamp\n",
              "0          2    60756           funni  1445714994\n",
              "1          2    60756  highli quotabl  1445714996\n",
              "2          2    60756     will ferrel  1445714992\n",
              "3          2    89774       box stori  1445715207\n",
              "4          2    89774             mma  1445715200\n",
              "...      ...      ...             ...         ...\n",
              "3678     606     7382        for kati  1171234019\n",
              "3679     606     7936          auster  1173392334\n",
              "3680     610     3265          gun fu  1493843984\n",
              "3681     610     3265  heroic bloodsh  1493843978\n",
              "3682     610   168248  heroic bloodsh  1493844270\n",
              "\n",
              "[3683 rows x 4 columns]"
            ]
          },
          "metadata": {},
          "execution_count": 15
        }
      ]
    },
    {
      "cell_type": "markdown",
      "metadata": {
        "id": "ELvyiXpXQo1l"
      },
      "source": [
        "##Experiementing ratings with string changes"
      ]
    },
    {
      "cell_type": "code",
      "metadata": {
        "colab": {
          "base_uri": "https://localhost:8080/",
          "height": 455
        },
        "id": "DuoR8ReTEL8K",
        "outputId": "992c20c8-ac9e-4c7a-d412-8eac58939a9a"
      },
      "source": [
        "ratingsTagsDf = pd.merge(ratingsDF, tagsDF, on='movieId')\n",
        "tagVSRatings = pd.DataFrame(ratingsTagsDf[['tag','rating']].groupby('tag')['rating'].value_counts(sort=False))\n",
        "tagVSRatings.rename({'rating':'count'},axis='columns')\n"
      ],
      "execution_count": 16,
      "outputs": [
        {
          "output_type": "execute_result",
          "data": {
            "text/html": [
              "<div>\n",
              "<style scoped>\n",
              "    .dataframe tbody tr th:only-of-type {\n",
              "        vertical-align: middle;\n",
              "    }\n",
              "\n",
              "    .dataframe tbody tr th {\n",
              "        vertical-align: top;\n",
              "    }\n",
              "\n",
              "    .dataframe thead th {\n",
              "        text-align: right;\n",
              "    }\n",
              "</style>\n",
              "<table border=\"1\" class=\"dataframe\">\n",
              "  <thead>\n",
              "    <tr style=\"text-align: right;\">\n",
              "      <th></th>\n",
              "      <th></th>\n",
              "      <th>count</th>\n",
              "    </tr>\n",
              "    <tr>\n",
              "      <th>tag</th>\n",
              "      <th>rating</th>\n",
              "      <th></th>\n",
              "    </tr>\n",
              "  </thead>\n",
              "  <tbody>\n",
              "    <tr>\n",
              "      <th rowspan=\"5\" valign=\"top\">like</th>\n",
              "      <th>1.0</th>\n",
              "      <td>1</td>\n",
              "    </tr>\n",
              "    <tr>\n",
              "      <th>2.0</th>\n",
              "      <td>1</td>\n",
              "    </tr>\n",
              "    <tr>\n",
              "      <th>3.0</th>\n",
              "      <td>4</td>\n",
              "    </tr>\n",
              "    <tr>\n",
              "      <th>3.5</th>\n",
              "      <td>4</td>\n",
              "    </tr>\n",
              "    <tr>\n",
              "      <th>4.0</th>\n",
              "      <td>9</td>\n",
              "    </tr>\n",
              "    <tr>\n",
              "      <th>...</th>\n",
              "      <th>...</th>\n",
              "      <td>...</td>\n",
              "    </tr>\n",
              "    <tr>\n",
              "      <th rowspan=\"5\" valign=\"top\">zooey deschanel</th>\n",
              "      <th>3.0</th>\n",
              "      <td>2</td>\n",
              "    </tr>\n",
              "    <tr>\n",
              "      <th>3.5</th>\n",
              "      <td>6</td>\n",
              "    </tr>\n",
              "    <tr>\n",
              "      <th>4.0</th>\n",
              "      <td>15</td>\n",
              "    </tr>\n",
              "    <tr>\n",
              "      <th>4.5</th>\n",
              "      <td>6</td>\n",
              "    </tr>\n",
              "    <tr>\n",
              "      <th>5.0</th>\n",
              "      <td>5</td>\n",
              "    </tr>\n",
              "  </tbody>\n",
              "</table>\n",
              "<p>10308 rows × 1 columns</p>\n",
              "</div>"
            ],
            "text/plain": [
              "                        count\n",
              "tag             rating       \n",
              "  like          1.0         1\n",
              "                2.0         1\n",
              "                3.0         4\n",
              "                3.5         4\n",
              "                4.0         9\n",
              "...                       ...\n",
              "zooey deschanel 3.0         2\n",
              "                3.5         6\n",
              "                4.0        15\n",
              "                4.5         6\n",
              "                5.0         5\n",
              "\n",
              "[10308 rows x 1 columns]"
            ]
          },
          "metadata": {},
          "execution_count": 16
        }
      ]
    },
    {
      "cell_type": "markdown",
      "metadata": {
        "id": "BdAYeIPkRGTE"
      },
      "source": [
        "###Number of unique tags"
      ]
    },
    {
      "cell_type": "code",
      "metadata": {
        "colab": {
          "base_uri": "https://localhost:8080/"
        },
        "id": "TM9y0Yi8RFkN",
        "outputId": "9f9b128f-4db5-493d-b5b3-7199796dde50"
      },
      "source": [
        "print('Number of unique tags: %i.'% len(ratingsTagsDf.tag.unique()))"
      ],
      "execution_count": 17,
      "outputs": [
        {
          "output_type": "stream",
          "name": "stdout",
          "text": [
            "Number of unique tags: 1420.\n"
          ]
        }
      ]
    },
    {
      "cell_type": "code",
      "metadata": {
        "colab": {
          "base_uri": "https://localhost:8080/",
          "height": 424
        },
        "id": "brpYNNfoTCEt",
        "outputId": "5c129e8f-801b-4984-b6e6-8a9f560acdf9"
      },
      "source": [
        "generalCountofTags = pd.DataFrame(ratingsTagsDf.tag.value_counts())\n",
        "generalCountofTags.reset_index(inplace=True)\n",
        "generalCountofTags"
      ],
      "execution_count": 18,
      "outputs": [
        {
          "output_type": "execute_result",
          "data": {
            "text/html": [
              "<div>\n",
              "<style scoped>\n",
              "    .dataframe tbody tr th:only-of-type {\n",
              "        vertical-align: middle;\n",
              "    }\n",
              "\n",
              "    .dataframe tbody tr th {\n",
              "        vertical-align: top;\n",
              "    }\n",
              "\n",
              "    .dataframe thead th {\n",
              "        text-align: right;\n",
              "    }\n",
              "</style>\n",
              "<table border=\"1\" class=\"dataframe\">\n",
              "  <thead>\n",
              "    <tr style=\"text-align: right;\">\n",
              "      <th></th>\n",
              "      <th>index</th>\n",
              "      <th>tag</th>\n",
              "    </tr>\n",
              "  </thead>\n",
              "  <tbody>\n",
              "    <tr>\n",
              "      <th>0</th>\n",
              "      <td>psycholog</td>\n",
              "      <td>3089</td>\n",
              "    </tr>\n",
              "    <tr>\n",
              "      <th>1</th>\n",
              "      <td>sci fi</td>\n",
              "      <td>2559</td>\n",
              "    </tr>\n",
              "    <tr>\n",
              "      <th>2</th>\n",
              "      <td>atmospher</td>\n",
              "      <td>2534</td>\n",
              "    </tr>\n",
              "    <tr>\n",
              "      <th>3</th>\n",
              "      <td>thought provok</td>\n",
              "      <td>2491</td>\n",
              "    </tr>\n",
              "    <tr>\n",
              "      <th>4</th>\n",
              "      <td>twist end</td>\n",
              "      <td>2440</td>\n",
              "    </tr>\n",
              "    <tr>\n",
              "      <th>...</th>\n",
              "      <td>...</td>\n",
              "      <td>...</td>\n",
              "    </tr>\n",
              "    <tr>\n",
              "      <th>1415</th>\n",
              "      <td>big wave</td>\n",
              "      <td>1</td>\n",
              "    </tr>\n",
              "    <tr>\n",
              "      <th>1416</th>\n",
              "      <td>system holism</td>\n",
              "      <td>1</td>\n",
              "    </tr>\n",
              "    <tr>\n",
              "      <th>1417</th>\n",
              "      <td>human right</td>\n",
              "      <td>1</td>\n",
              "    </tr>\n",
              "    <tr>\n",
              "      <th>1418</th>\n",
              "      <td>van gogh</td>\n",
              "      <td>1</td>\n",
              "    </tr>\n",
              "    <tr>\n",
              "      <th>1419</th>\n",
              "      <td>hearst</td>\n",
              "      <td>1</td>\n",
              "    </tr>\n",
              "  </tbody>\n",
              "</table>\n",
              "<p>1420 rows × 2 columns</p>\n",
              "</div>"
            ],
            "text/plain": [
              "               index   tag\n",
              "0          psycholog  3089\n",
              "1             sci fi  2559\n",
              "2          atmospher  2534\n",
              "3     thought provok  2491\n",
              "4          twist end  2440\n",
              "...              ...   ...\n",
              "1415        big wave     1\n",
              "1416   system holism     1\n",
              "1417     human right     1\n",
              "1418        van gogh     1\n",
              "1419          hearst     1\n",
              "\n",
              "[1420 rows x 2 columns]"
            ]
          },
          "metadata": {},
          "execution_count": 18
        }
      ]
    },
    {
      "cell_type": "markdown",
      "metadata": {
        "id": "80yMHy13T_Nz"
      },
      "source": [
        "##Affiliation of tags to the movies"
      ]
    },
    {
      "cell_type": "code",
      "metadata": {
        "id": "K_JcnblnT-wz"
      },
      "source": [
        "tagsAndGenresDataFrame = pd.merge(tagsDF, moviesDF, on='movieId')[['title', 'tag','genres']]"
      ],
      "execution_count": 19,
      "outputs": []
    },
    {
      "cell_type": "code",
      "metadata": {
        "colab": {
          "base_uri": "https://localhost:8080/",
          "height": 424
        },
        "id": "_nz1obXOUgwx",
        "outputId": "14f93b0e-d406-45a8-8110-5b56f79ba20a"
      },
      "source": [
        "titlesAndTags = pd.DataFrame(tagsAndGenresDataFrame.groupby(['title']).tag.unique())\n",
        "titlesAndTags = titlesAndTags.reset_index()\n",
        "titlesAndTags"
      ],
      "execution_count": 20,
      "outputs": [
        {
          "output_type": "execute_result",
          "data": {
            "text/html": [
              "<div>\n",
              "<style scoped>\n",
              "    .dataframe tbody tr th:only-of-type {\n",
              "        vertical-align: middle;\n",
              "    }\n",
              "\n",
              "    .dataframe tbody tr th {\n",
              "        vertical-align: top;\n",
              "    }\n",
              "\n",
              "    .dataframe thead th {\n",
              "        text-align: right;\n",
              "    }\n",
              "</style>\n",
              "<table border=\"1\" class=\"dataframe\">\n",
              "  <thead>\n",
              "    <tr style=\"text-align: right;\">\n",
              "      <th></th>\n",
              "      <th>title</th>\n",
              "      <th>tag</th>\n",
              "    </tr>\n",
              "  </thead>\n",
              "  <tbody>\n",
              "    <tr>\n",
              "      <th>0</th>\n",
              "      <td>(500) Days of Summer (2009)</td>\n",
              "      <td>[artist, funni, humor, inspir, intellig, quirk...</td>\n",
              "    </tr>\n",
              "    <tr>\n",
              "      <th>1</th>\n",
              "      <td>...And Justice for All (1979)</td>\n",
              "      <td>[lawyer]</td>\n",
              "    </tr>\n",
              "    <tr>\n",
              "      <th>2</th>\n",
              "      <td>10 Cloverfield Lane (2016)</td>\n",
              "      <td>[creepi, suspens]</td>\n",
              "    </tr>\n",
              "    <tr>\n",
              "      <th>3</th>\n",
              "      <td>10 Things I Hate About You (1999)</td>\n",
              "      <td>[shakespear sort of]</td>\n",
              "    </tr>\n",
              "    <tr>\n",
              "      <th>4</th>\n",
              "      <td>101 Dalmatians (1996)</td>\n",
              "      <td>[dog, remak]</td>\n",
              "    </tr>\n",
              "    <tr>\n",
              "      <th>...</th>\n",
              "      <td>...</td>\n",
              "      <td>...</td>\n",
              "    </tr>\n",
              "    <tr>\n",
              "      <th>1567</th>\n",
              "      <td>Zero Dark Thirty (2012)</td>\n",
              "      <td>[afghanistan, american propaganda, assassin, m...</td>\n",
              "    </tr>\n",
              "    <tr>\n",
              "      <th>1568</th>\n",
              "      <td>Zombieland (2009)</td>\n",
              "      <td>[bill murray, dark comedi, emma stone, funni, ...</td>\n",
              "    </tr>\n",
              "    <tr>\n",
              "      <th>1569</th>\n",
              "      <td>Zoolander (2001)</td>\n",
              "      <td>[ben stiller, comedi, david bowi, goofi, mindl...</td>\n",
              "    </tr>\n",
              "    <tr>\n",
              "      <th>1570</th>\n",
              "      <td>Zulu (1964)</td>\n",
              "      <td>[africa]</td>\n",
              "    </tr>\n",
              "    <tr>\n",
              "      <th>1571</th>\n",
              "      <td>eXistenZ (1999)</td>\n",
              "      <td>[virtual realiti]</td>\n",
              "    </tr>\n",
              "  </tbody>\n",
              "</table>\n",
              "<p>1572 rows × 2 columns</p>\n",
              "</div>"
            ],
            "text/plain": [
              "                                  title                                                tag\n",
              "0           (500) Days of Summer (2009)  [artist, funni, humor, inspir, intellig, quirk...\n",
              "1         ...And Justice for All (1979)                                           [lawyer]\n",
              "2            10 Cloverfield Lane (2016)                                  [creepi, suspens]\n",
              "3     10 Things I Hate About You (1999)                               [shakespear sort of]\n",
              "4                 101 Dalmatians (1996)                                       [dog, remak]\n",
              "...                                 ...                                                ...\n",
              "1567            Zero Dark Thirty (2012)  [afghanistan, american propaganda, assassin, m...\n",
              "1568                  Zombieland (2009)  [bill murray, dark comedi, emma stone, funni, ...\n",
              "1569                   Zoolander (2001)  [ben stiller, comedi, david bowi, goofi, mindl...\n",
              "1570                        Zulu (1964)                                           [africa]\n",
              "1571                    eXistenZ (1999)                                  [virtual realiti]\n",
              "\n",
              "[1572 rows x 2 columns]"
            ]
          },
          "metadata": {},
          "execution_count": 20
        }
      ]
    },
    {
      "cell_type": "code",
      "metadata": {
        "colab": {
          "base_uri": "https://localhost:8080/",
          "height": 424
        },
        "id": "w8rvyO9LU8-S",
        "outputId": "4cbad265-1ed8-4954-d7e3-022345038d50"
      },
      "source": [
        "genresAndTags = pd.DataFrame(tagsAndGenresDataFrame.groupby(['genres']).tag.unique())\n",
        "genresAndTags = genresAndTags.reset_index()\n",
        "genresAndTags"
      ],
      "execution_count": 21,
      "outputs": [
        {
          "output_type": "execute_result",
          "data": {
            "text/html": [
              "<div>\n",
              "<style scoped>\n",
              "    .dataframe tbody tr th:only-of-type {\n",
              "        vertical-align: middle;\n",
              "    }\n",
              "\n",
              "    .dataframe tbody tr th {\n",
              "        vertical-align: top;\n",
              "    }\n",
              "\n",
              "    .dataframe thead th {\n",
              "        text-align: right;\n",
              "    }\n",
              "</style>\n",
              "<table border=\"1\" class=\"dataframe\">\n",
              "  <thead>\n",
              "    <tr style=\"text-align: right;\">\n",
              "      <th></th>\n",
              "      <th>genres</th>\n",
              "      <th>tag</th>\n",
              "    </tr>\n",
              "  </thead>\n",
              "  <tbody>\n",
              "    <tr>\n",
              "      <th>0</th>\n",
              "      <td>(no genres listed)</td>\n",
              "      <td>[quirki, sweet, underst]</td>\n",
              "    </tr>\n",
              "    <tr>\n",
              "      <th>1</th>\n",
              "      <td>Action|Adventure</td>\n",
              "      <td>[adventur, archaeolog, indiana jone, steven sp...</td>\n",
              "    </tr>\n",
              "    <tr>\n",
              "      <th>2</th>\n",
              "      <td>Action|Adventure|Animation|Children|Comedy</td>\n",
              "      <td>[disney, superhero, anim, samuel L  jackson]</td>\n",
              "    </tr>\n",
              "    <tr>\n",
              "      <th>3</th>\n",
              "      <td>Action|Adventure|Animation|Children|Comedy|Fan...</td>\n",
              "      <td>[cheeki, clever, color, feel good, fun, imagin...</td>\n",
              "    </tr>\n",
              "    <tr>\n",
              "      <th>4</th>\n",
              "      <td>Action|Adventure|Animation|Children|Comedy|Sci-Fi</td>\n",
              "      <td>[someth for everyon in thi one    saw it witho...</td>\n",
              "    </tr>\n",
              "    <tr>\n",
              "      <th>...</th>\n",
              "      <td>...</td>\n",
              "      <td>...</td>\n",
              "    </tr>\n",
              "    <tr>\n",
              "      <th>367</th>\n",
              "      <td>Sci-Fi</td>\n",
              "      <td>[beauti visual, cerebr, cinematographi, good c...</td>\n",
              "    </tr>\n",
              "    <tr>\n",
              "      <th>368</th>\n",
              "      <td>Sci-Fi|IMAX</td>\n",
              "      <td>[black hole, sci fi, time travel, christoph no...</td>\n",
              "    </tr>\n",
              "    <tr>\n",
              "      <th>369</th>\n",
              "      <td>Sci-Fi|Thriller</td>\n",
              "      <td>[good]</td>\n",
              "    </tr>\n",
              "    <tr>\n",
              "      <th>370</th>\n",
              "      <td>Thriller</td>\n",
              "      <td>[horror, juliett lewi, martin scorses, robert ...</td>\n",
              "    </tr>\n",
              "    <tr>\n",
              "      <th>371</th>\n",
              "      <td>Western</td>\n",
              "      <td>[charact, dialogu, humor, kurt russel, quentin...</td>\n",
              "    </tr>\n",
              "  </tbody>\n",
              "</table>\n",
              "<p>372 rows × 2 columns</p>\n",
              "</div>"
            ],
            "text/plain": [
              "                                                genres                                                tag\n",
              "0                                   (no genres listed)                           [quirki, sweet, underst]\n",
              "1                                     Action|Adventure  [adventur, archaeolog, indiana jone, steven sp...\n",
              "2           Action|Adventure|Animation|Children|Comedy       [disney, superhero, anim, samuel L  jackson]\n",
              "3    Action|Adventure|Animation|Children|Comedy|Fan...  [cheeki, clever, color, feel good, fun, imagin...\n",
              "4    Action|Adventure|Animation|Children|Comedy|Sci-Fi  [someth for everyon in thi one    saw it witho...\n",
              "..                                                 ...                                                ...\n",
              "367                                             Sci-Fi  [beauti visual, cerebr, cinematographi, good c...\n",
              "368                                        Sci-Fi|IMAX  [black hole, sci fi, time travel, christoph no...\n",
              "369                                    Sci-Fi|Thriller                                             [good]\n",
              "370                                           Thriller  [horror, juliett lewi, martin scorses, robert ...\n",
              "371                                            Western  [charact, dialogu, humor, kurt russel, quentin...\n",
              "\n",
              "[372 rows x 2 columns]"
            ]
          },
          "metadata": {},
          "execution_count": 21
        }
      ]
    },
    {
      "cell_type": "markdown",
      "metadata": {
        "id": "FAvVOpSLGcOc"
      },
      "source": [
        "##Experimenting with the NLTK_RAKE within the context of data cleaning "
      ]
    },
    {
      "cell_type": "code",
      "metadata": {
        "colab": {
          "base_uri": "https://localhost:8080/",
          "height": 424
        },
        "id": "5jd4GZcvIZQJ",
        "outputId": "ec460cd5-f997-4932-9889-937258ba9d70"
      },
      "source": [
        "tagsDFCopy"
      ],
      "execution_count": 22,
      "outputs": [
        {
          "output_type": "execute_result",
          "data": {
            "text/html": [
              "<div>\n",
              "<style scoped>\n",
              "    .dataframe tbody tr th:only-of-type {\n",
              "        vertical-align: middle;\n",
              "    }\n",
              "\n",
              "    .dataframe tbody tr th {\n",
              "        vertical-align: top;\n",
              "    }\n",
              "\n",
              "    .dataframe thead th {\n",
              "        text-align: right;\n",
              "    }\n",
              "</style>\n",
              "<table border=\"1\" class=\"dataframe\">\n",
              "  <thead>\n",
              "    <tr style=\"text-align: right;\">\n",
              "      <th></th>\n",
              "      <th>userId</th>\n",
              "      <th>movieId</th>\n",
              "      <th>tag</th>\n",
              "      <th>timestamp</th>\n",
              "    </tr>\n",
              "  </thead>\n",
              "  <tbody>\n",
              "    <tr>\n",
              "      <th>0</th>\n",
              "      <td>2</td>\n",
              "      <td>60756</td>\n",
              "      <td>funni</td>\n",
              "      <td>1445714994</td>\n",
              "    </tr>\n",
              "    <tr>\n",
              "      <th>1</th>\n",
              "      <td>2</td>\n",
              "      <td>60756</td>\n",
              "      <td>highli quotabl</td>\n",
              "      <td>1445714996</td>\n",
              "    </tr>\n",
              "    <tr>\n",
              "      <th>2</th>\n",
              "      <td>2</td>\n",
              "      <td>60756</td>\n",
              "      <td>will ferrel</td>\n",
              "      <td>1445714992</td>\n",
              "    </tr>\n",
              "    <tr>\n",
              "      <th>3</th>\n",
              "      <td>2</td>\n",
              "      <td>89774</td>\n",
              "      <td>box stori</td>\n",
              "      <td>1445715207</td>\n",
              "    </tr>\n",
              "    <tr>\n",
              "      <th>4</th>\n",
              "      <td>2</td>\n",
              "      <td>89774</td>\n",
              "      <td>mma</td>\n",
              "      <td>1445715200</td>\n",
              "    </tr>\n",
              "    <tr>\n",
              "      <th>...</th>\n",
              "      <td>...</td>\n",
              "      <td>...</td>\n",
              "      <td>...</td>\n",
              "      <td>...</td>\n",
              "    </tr>\n",
              "    <tr>\n",
              "      <th>3678</th>\n",
              "      <td>606</td>\n",
              "      <td>7382</td>\n",
              "      <td>for kati</td>\n",
              "      <td>1171234019</td>\n",
              "    </tr>\n",
              "    <tr>\n",
              "      <th>3679</th>\n",
              "      <td>606</td>\n",
              "      <td>7936</td>\n",
              "      <td>auster</td>\n",
              "      <td>1173392334</td>\n",
              "    </tr>\n",
              "    <tr>\n",
              "      <th>3680</th>\n",
              "      <td>610</td>\n",
              "      <td>3265</td>\n",
              "      <td>gun fu</td>\n",
              "      <td>1493843984</td>\n",
              "    </tr>\n",
              "    <tr>\n",
              "      <th>3681</th>\n",
              "      <td>610</td>\n",
              "      <td>3265</td>\n",
              "      <td>heroic bloodsh</td>\n",
              "      <td>1493843978</td>\n",
              "    </tr>\n",
              "    <tr>\n",
              "      <th>3682</th>\n",
              "      <td>610</td>\n",
              "      <td>168248</td>\n",
              "      <td>heroic bloodsh</td>\n",
              "      <td>1493844270</td>\n",
              "    </tr>\n",
              "  </tbody>\n",
              "</table>\n",
              "<p>3683 rows × 4 columns</p>\n",
              "</div>"
            ],
            "text/plain": [
              "      userId  movieId             tag   timestamp\n",
              "0          2    60756           funni  1445714994\n",
              "1          2    60756  highli quotabl  1445714996\n",
              "2          2    60756     will ferrel  1445714992\n",
              "3          2    89774       box stori  1445715207\n",
              "4          2    89774             mma  1445715200\n",
              "...      ...      ...             ...         ...\n",
              "3678     606     7382        for kati  1171234019\n",
              "3679     606     7936          auster  1173392334\n",
              "3680     610     3265          gun fu  1493843984\n",
              "3681     610     3265  heroic bloodsh  1493843978\n",
              "3682     610   168248  heroic bloodsh  1493844270\n",
              "\n",
              "[3683 rows x 4 columns]"
            ]
          },
          "metadata": {},
          "execution_count": 22
        }
      ]
    },
    {
      "cell_type": "code",
      "metadata": {
        "id": "ICKqYlMgWKJE"
      },
      "source": [
        "key_words_keys = []\n",
        "for index, row in tagsDFCopy.iterrows(): \n",
        "  tags = row['tag']\n",
        "  r = Rake()\n",
        "\n",
        "  r.extract_keywords_from_text(tags)\n",
        "\n",
        "  key_words_dict_scores = r.get_word_degrees()\n",
        "\n",
        "  key_words_keys.append(list(key_words_dict_scores.keys()))\n",
        "\n",
        "tagsDFCopy['Key_words'] = key_words_keys\n",
        "\n",
        "\n",
        "tagsDFCopy.drop(columns = ['tag'], inplace=True)"
      ],
      "execution_count": 23,
      "outputs": []
    },
    {
      "cell_type": "code",
      "metadata": {
        "colab": {
          "base_uri": "https://localhost:8080/",
          "height": 424
        },
        "id": "saVMKN_BHwwZ",
        "outputId": "3c220234-2fcc-40c3-84da-7f887558a5d6"
      },
      "source": [
        "tagsDFCopy"
      ],
      "execution_count": 24,
      "outputs": [
        {
          "output_type": "execute_result",
          "data": {
            "text/html": [
              "<div>\n",
              "<style scoped>\n",
              "    .dataframe tbody tr th:only-of-type {\n",
              "        vertical-align: middle;\n",
              "    }\n",
              "\n",
              "    .dataframe tbody tr th {\n",
              "        vertical-align: top;\n",
              "    }\n",
              "\n",
              "    .dataframe thead th {\n",
              "        text-align: right;\n",
              "    }\n",
              "</style>\n",
              "<table border=\"1\" class=\"dataframe\">\n",
              "  <thead>\n",
              "    <tr style=\"text-align: right;\">\n",
              "      <th></th>\n",
              "      <th>userId</th>\n",
              "      <th>movieId</th>\n",
              "      <th>timestamp</th>\n",
              "      <th>Key_words</th>\n",
              "    </tr>\n",
              "  </thead>\n",
              "  <tbody>\n",
              "    <tr>\n",
              "      <th>0</th>\n",
              "      <td>2</td>\n",
              "      <td>60756</td>\n",
              "      <td>1445714994</td>\n",
              "      <td>[funni]</td>\n",
              "    </tr>\n",
              "    <tr>\n",
              "      <th>1</th>\n",
              "      <td>2</td>\n",
              "      <td>60756</td>\n",
              "      <td>1445714996</td>\n",
              "      <td>[highli, quotabl]</td>\n",
              "    </tr>\n",
              "    <tr>\n",
              "      <th>2</th>\n",
              "      <td>2</td>\n",
              "      <td>60756</td>\n",
              "      <td>1445714992</td>\n",
              "      <td>[ferrel]</td>\n",
              "    </tr>\n",
              "    <tr>\n",
              "      <th>3</th>\n",
              "      <td>2</td>\n",
              "      <td>89774</td>\n",
              "      <td>1445715207</td>\n",
              "      <td>[box, stori]</td>\n",
              "    </tr>\n",
              "    <tr>\n",
              "      <th>4</th>\n",
              "      <td>2</td>\n",
              "      <td>89774</td>\n",
              "      <td>1445715200</td>\n",
              "      <td>[mma]</td>\n",
              "    </tr>\n",
              "    <tr>\n",
              "      <th>...</th>\n",
              "      <td>...</td>\n",
              "      <td>...</td>\n",
              "      <td>...</td>\n",
              "      <td>...</td>\n",
              "    </tr>\n",
              "    <tr>\n",
              "      <th>3678</th>\n",
              "      <td>606</td>\n",
              "      <td>7382</td>\n",
              "      <td>1171234019</td>\n",
              "      <td>[kati]</td>\n",
              "    </tr>\n",
              "    <tr>\n",
              "      <th>3679</th>\n",
              "      <td>606</td>\n",
              "      <td>7936</td>\n",
              "      <td>1173392334</td>\n",
              "      <td>[auster]</td>\n",
              "    </tr>\n",
              "    <tr>\n",
              "      <th>3680</th>\n",
              "      <td>610</td>\n",
              "      <td>3265</td>\n",
              "      <td>1493843984</td>\n",
              "      <td>[gun, fu]</td>\n",
              "    </tr>\n",
              "    <tr>\n",
              "      <th>3681</th>\n",
              "      <td>610</td>\n",
              "      <td>3265</td>\n",
              "      <td>1493843978</td>\n",
              "      <td>[heroic, bloodsh]</td>\n",
              "    </tr>\n",
              "    <tr>\n",
              "      <th>3682</th>\n",
              "      <td>610</td>\n",
              "      <td>168248</td>\n",
              "      <td>1493844270</td>\n",
              "      <td>[heroic, bloodsh]</td>\n",
              "    </tr>\n",
              "  </tbody>\n",
              "</table>\n",
              "<p>3683 rows × 4 columns</p>\n",
              "</div>"
            ],
            "text/plain": [
              "      userId  movieId   timestamp          Key_words\n",
              "0          2    60756  1445714994            [funni]\n",
              "1          2    60756  1445714996  [highli, quotabl]\n",
              "2          2    60756  1445714992           [ferrel]\n",
              "3          2    89774  1445715207       [box, stori]\n",
              "4          2    89774  1445715200              [mma]\n",
              "...      ...      ...         ...                ...\n",
              "3678     606     7382  1171234019             [kati]\n",
              "3679     606     7936  1173392334           [auster]\n",
              "3680     610     3265  1493843984          [gun, fu]\n",
              "3681     610     3265  1493843978  [heroic, bloodsh]\n",
              "3682     610   168248  1493844270  [heroic, bloodsh]\n",
              "\n",
              "[3683 rows x 4 columns]"
            ]
          },
          "metadata": {},
          "execution_count": 24
        }
      ]
    },
    {
      "cell_type": "code",
      "metadata": {
        "id": "fu-EbYacHz_-"
      },
      "source": [
        ""
      ],
      "execution_count": 24,
      "outputs": []
    }
  ]
}
